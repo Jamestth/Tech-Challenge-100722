{
 "cells": [
  {
   "cell_type": "code",
   "execution_count": 6,
   "metadata": {},
   "outputs": [],
   "source": [
    "import pandas as pd\n",
    "import re\n",
    "df1 = pd.read_csv(\"dataset1.csv\")\n",
    "df2 = pd.read_csv(\"dataset2.csv\")\n",
    "df_raw = df1.append(df2)\n",
    "df_raw = df_raw.reset_index(drop=True)\n",
    "df_cleaned = df_raw.copy()"
   ]
  },
  {
   "cell_type": "code",
   "execution_count": 7,
   "metadata": {},
   "outputs": [],
   "source": [
    "def price_is_number(price):\n",
    "    if type(price) != str:\n",
    "        return True\n",
    "    return not re.match(r'^-?\\d+(?:\\.\\d+)$', price) is None\n"
   ]
  },
  {
   "cell_type": "code",
   "execution_count": 8,
   "metadata": {},
   "outputs": [],
   "source": [
    "# Swap Name from price to name column if misplaced\n",
    "# Checks if both name column is na and price column is a str for each row\n",
    "# Swaps name and price columns if both conditions met.\n",
    "\n",
    "# Set Conditions\n",
    "price_is_not_number = df_cleaned[\"price\"].apply(lambda x: not price_is_number(x))\n",
    "no_name = df_cleaned[\"name\"].isna()\n",
    "name_price_swap_condition = no_name & price_is_not_number\n",
    "\n",
    "\n",
    "# Swap name and price if conditions met\n",
    "df_cleaned[\"name\"][name_price_swap_condition] = df_cleaned[\"price\"][name_price_swap_condition]\n",
    "df_cleaned[\"price\"][name_price_swap_condition] = None"
   ]
  },
  {
   "cell_type": "code",
   "execution_count": 9,
   "metadata": {},
   "outputs": [],
   "source": [
    "# Clean name of any suffixes\n",
    "def clean_names(text):\n",
    "    # Create Regex for suffixes\n",
    "    suffixes = [\"Dr\", \"Ms\", \"Mr\", \"Jr\",\"Miss\", \"Mrs\", \"DVM\", \"PhD\", \"MD\", \"DDS\", \"I\", \"II\", \"III\", \"IV\"]\n",
    "    suffixes = [r\"\\b\" + x + r\"\\b\" for x in suffixes]\n",
    "\n",
    "    suffixes_pattern = re.compile(f'({\"|\".join(suffixes)})')\n",
    "\n",
    "    # Replace Suffixes with space\n",
    "    text = re.sub(suffixes_pattern, \"\", text)\n",
    "\n",
    "    # Remove punctuations characters:\n",
    "    text = re.sub(r'[^\\w\\s]', \"\", text)\n",
    "\n",
    "    # Trim Spaces\n",
    "    return \" \".join(text.split())\n",
    "\n",
    "df_cleaned[\"clean_name\"] = df_cleaned[\"name\"].apply(clean_names)\n",
    "df_cleaned[\"clean_name\"] = df_cleaned[\"clean_name\"].apply(clean_names)"
   ]
  },
  {
   "cell_type": "code",
   "execution_count": 10,
   "metadata": {},
   "outputs": [],
   "source": [
    "# Perform Processing tasks\n",
    "df_processed = df_cleaned.copy()\n",
    "\n",
    "\n",
    "# Task 1: Delete any rows which do not have a name\n",
    "df_processed.dropna(subset=[\"name\"], axis = 0) \n",
    "\n",
    "\n",
    "# Task 2: Split the name field into first_name, and last_name\n",
    "first_last_names = df_processed[\"clean_name\"].str.split(expand=True)\n",
    "df_processed[\"first_name\"] = first_last_names[0]\n",
    "df_processed[\"last_name\"] = first_last_names[1]\n",
    "\n",
    "\n",
    "# Task 3: Remove any zeros prepended to the price field \n",
    "# Case 1: 09 --> 9\n",
    "# Converting Price to numeric will remove any prepended 0s from a number more than 1 i.e. 09 --> 9\n",
    "df_processed[\"price\"] = pd.to_numeric(df_processed[\"price\"])\n",
    "\n",
    "\n",
    "# Skip to task 4 first before converting price to string.\n",
    "# Task 4: Create a new field named above_100, which is true if the price is strictly greater than 100\n",
    "df_processed[\"above_100\"] = df_processed[\"price\"] > 100\n",
    "\n",
    "\n",
    "# Back to Task 3\n",
    "# Case 2: 0.1234 --> .1234\n",
    "# Assumes data requirment requires numbers less than 1 to be transformed i.e. \n",
    "def remove_prepend_0(price):\n",
    "    # Converting to str for removing 0\n",
    "    str_price = str(price)\n",
    "    if str_price[0] == \"0\":\n",
    "        return str_price[1:]\n",
    "    return str_price\n",
    "\n",
    "df_processed[\"price\"] = df_processed[\"price\"].apply(remove_prepend_0)"
   ]
  },
  {
   "cell_type": "code",
   "execution_count": 11,
   "metadata": {},
   "outputs": [],
   "source": [
    "df_output = df_processed[[\"first_name\", \"last_name\", \"price\", \"above_100\"]]\n",
    "\n",
    "df_output.to_csv(\"output.csv\", index = False)"
   ]
  }
 ],
 "metadata": {
  "kernelspec": {
   "display_name": "Python 3.7.4 ('base')",
   "language": "python",
   "name": "python3"
  },
  "language_info": {
   "codemirror_mode": {
    "name": "ipython",
    "version": 3
   },
   "file_extension": ".py",
   "mimetype": "text/x-python",
   "name": "python",
   "nbconvert_exporter": "python",
   "pygments_lexer": "ipython3",
   "version": "3.7.4"
  },
  "orig_nbformat": 4,
  "vscode": {
   "interpreter": {
    "hash": "464d421a8033878f2844d0307ee899c62dbf8e99e6988ce9c9e99761b50f94a2"
   }
  }
 },
 "nbformat": 4,
 "nbformat_minor": 2
}
