{
  "cells": [
    {
      "cell_type": "markdown",
      "metadata": {
        "id": "jd7VOGE0xIOz"
      },
      "source": [
        "# 1 Initialisation"
      ]
    },
    {
      "cell_type": "markdown",
      "metadata": {
        "id": "KmcC-yVcxIO2"
      },
      "source": [
        "## 1.1 Installation & Load Libraries"
      ]
    },
    {
      "cell_type": "code",
      "execution_count": 1,
      "metadata": {
        "colab": {
          "base_uri": "https://localhost:8080/",
          "height": 1000
        },
        "id": "_YBwcxQcxIO3",
        "outputId": "87653b06-2836-4e4a-e972-a4010cd63e70"
      },
      "outputs": [
        {
          "output_type": "stream",
          "name": "stdout",
          "text": [
            "Looking in indexes: https://pypi.org/simple, https://us-python.pkg.dev/colab-wheels/public/simple/\n",
            "Collecting lazypredict\n",
            "  Downloading lazypredict-0.2.9-py2.py3-none-any.whl (12 kB)\n",
            "Collecting PyYAML==5.3.1\n",
            "  Downloading PyYAML-5.3.1.tar.gz (269 kB)\n",
            "\u001b[K     |████████████████████████████████| 269 kB 7.3 MB/s \n",
            "\u001b[?25hCollecting lightgbm==2.3.1\n",
            "  Downloading lightgbm-2.3.1-py2.py3-none-manylinux1_x86_64.whl (1.2 MB)\n",
            "\u001b[K     |████████████████████████████████| 1.2 MB 43.5 MB/s \n",
            "\u001b[?25hCollecting scipy==1.5.4\n",
            "  Downloading scipy-1.5.4-cp37-cp37m-manylinux1_x86_64.whl (25.9 MB)\n",
            "\u001b[K     |████████████████████████████████| 25.9 MB 2.6 MB/s \n",
            "\u001b[?25hRequirement already satisfied: click==7.1.2 in /usr/local/lib/python3.7/dist-packages (from lazypredict) (7.1.2)\n",
            "Collecting numpy==1.19.1\n",
            "  Downloading numpy-1.19.1-cp37-cp37m-manylinux2010_x86_64.whl (14.5 MB)\n",
            "\u001b[K     |████████████████████████████████| 14.5 MB 38.5 MB/s \n",
            "\u001b[?25hCollecting pandas==1.0.5\n",
            "  Downloading pandas-1.0.5-cp37-cp37m-manylinux1_x86_64.whl (10.1 MB)\n",
            "\u001b[K     |████████████████████████████████| 10.1 MB 28.1 MB/s \n",
            "\u001b[?25hCollecting pytest==5.4.3\n",
            "  Downloading pytest-5.4.3-py3-none-any.whl (248 kB)\n",
            "\u001b[K     |████████████████████████████████| 248 kB 37.5 MB/s \n",
            "\u001b[?25hCollecting scikit-learn==0.23.1\n",
            "  Downloading scikit_learn-0.23.1-cp37-cp37m-manylinux1_x86_64.whl (6.8 MB)\n",
            "\u001b[K     |████████████████████████████████| 6.8 MB 20.9 MB/s \n",
            "\u001b[?25hCollecting joblib==1.0.0\n",
            "  Downloading joblib-1.0.0-py3-none-any.whl (302 kB)\n",
            "\u001b[K     |████████████████████████████████| 302 kB 28.7 MB/s \n",
            "\u001b[?25hCollecting tqdm==4.56.0\n",
            "  Downloading tqdm-4.56.0-py2.py3-none-any.whl (72 kB)\n",
            "\u001b[K     |████████████████████████████████| 72 kB 1.1 MB/s \n",
            "\u001b[?25hCollecting xgboost==1.1.1\n",
            "  Downloading xgboost-1.1.1-py3-none-manylinux2010_x86_64.whl (127.6 MB)\n",
            "\u001b[K     |████████████████████████████████| 127.6 MB 16 kB/s \n",
            "\u001b[?25hRequirement already satisfied: six==1.15.0 in /usr/local/lib/python3.7/dist-packages (from lazypredict) (1.15.0)\n",
            "Requirement already satisfied: python-dateutil>=2.6.1 in /usr/local/lib/python3.7/dist-packages (from pandas==1.0.5->lazypredict) (2.8.2)\n",
            "Requirement already satisfied: pytz>=2017.2 in /usr/local/lib/python3.7/dist-packages (from pandas==1.0.5->lazypredict) (2022.1)\n",
            "Requirement already satisfied: more-itertools>=4.0.0 in /usr/local/lib/python3.7/dist-packages (from pytest==5.4.3->lazypredict) (8.13.0)\n",
            "Collecting pluggy<1.0,>=0.12\n",
            "  Downloading pluggy-0.13.1-py2.py3-none-any.whl (18 kB)\n",
            "Requirement already satisfied: py>=1.5.0 in /usr/local/lib/python3.7/dist-packages (from pytest==5.4.3->lazypredict) (1.11.0)\n",
            "Requirement already satisfied: packaging in /usr/local/lib/python3.7/dist-packages (from pytest==5.4.3->lazypredict) (21.3)\n",
            "Requirement already satisfied: importlib-metadata>=0.12 in /usr/local/lib/python3.7/dist-packages (from pytest==5.4.3->lazypredict) (4.11.4)\n",
            "Requirement already satisfied: attrs>=17.4.0 in /usr/local/lib/python3.7/dist-packages (from pytest==5.4.3->lazypredict) (21.4.0)\n",
            "Requirement already satisfied: wcwidth in /usr/local/lib/python3.7/dist-packages (from pytest==5.4.3->lazypredict) (0.2.5)\n",
            "Requirement already satisfied: threadpoolctl>=2.0.0 in /usr/local/lib/python3.7/dist-packages (from scikit-learn==0.23.1->lazypredict) (3.1.0)\n",
            "Requirement already satisfied: zipp>=0.5 in /usr/local/lib/python3.7/dist-packages (from importlib-metadata>=0.12->pytest==5.4.3->lazypredict) (3.8.0)\n",
            "Requirement already satisfied: typing-extensions>=3.6.4 in /usr/local/lib/python3.7/dist-packages (from importlib-metadata>=0.12->pytest==5.4.3->lazypredict) (4.1.1)\n",
            "Requirement already satisfied: pyparsing!=3.0.5,>=2.0.2 in /usr/local/lib/python3.7/dist-packages (from packaging->pytest==5.4.3->lazypredict) (3.0.9)\n",
            "Building wheels for collected packages: PyYAML\n",
            "  Building wheel for PyYAML (setup.py) ... \u001b[?25l\u001b[?25hdone\n",
            "  Created wheel for PyYAML: filename=PyYAML-5.3.1-cp37-cp37m-linux_x86_64.whl size=44636 sha256=49b2b5a1235f4b5429729fca5683e35ab4abb17195ccb3dbebccb9346527b2a7\n",
            "  Stored in directory: /root/.cache/pip/wheels/5e/03/1e/e1e954795d6f35dfc7b637fe2277bff021303bd9570ecea653\n",
            "Successfully built PyYAML\n",
            "Installing collected packages: numpy, scipy, joblib, scikit-learn, pluggy, xgboost, tqdm, PyYAML, pytest, pandas, lightgbm, lazypredict\n",
            "  Attempting uninstall: numpy\n",
            "    Found existing installation: numpy 1.21.6\n",
            "    Uninstalling numpy-1.21.6:\n",
            "      Successfully uninstalled numpy-1.21.6\n",
            "  Attempting uninstall: scipy\n",
            "    Found existing installation: scipy 1.4.1\n",
            "    Uninstalling scipy-1.4.1:\n",
            "      Successfully uninstalled scipy-1.4.1\n",
            "  Attempting uninstall: joblib\n",
            "    Found existing installation: joblib 1.1.0\n",
            "    Uninstalling joblib-1.1.0:\n",
            "      Successfully uninstalled joblib-1.1.0\n",
            "  Attempting uninstall: scikit-learn\n",
            "    Found existing installation: scikit-learn 1.0.2\n",
            "    Uninstalling scikit-learn-1.0.2:\n",
            "      Successfully uninstalled scikit-learn-1.0.2\n",
            "  Attempting uninstall: pluggy\n",
            "    Found existing installation: pluggy 0.7.1\n",
            "    Uninstalling pluggy-0.7.1:\n",
            "      Successfully uninstalled pluggy-0.7.1\n",
            "  Attempting uninstall: xgboost\n",
            "    Found existing installation: xgboost 0.90\n",
            "    Uninstalling xgboost-0.90:\n",
            "      Successfully uninstalled xgboost-0.90\n",
            "  Attempting uninstall: tqdm\n",
            "    Found existing installation: tqdm 4.64.0\n",
            "    Uninstalling tqdm-4.64.0:\n",
            "      Successfully uninstalled tqdm-4.64.0\n",
            "  Attempting uninstall: PyYAML\n",
            "    Found existing installation: PyYAML 3.13\n",
            "    Uninstalling PyYAML-3.13:\n",
            "      Successfully uninstalled PyYAML-3.13\n",
            "  Attempting uninstall: pytest\n",
            "    Found existing installation: pytest 3.6.4\n",
            "    Uninstalling pytest-3.6.4:\n",
            "      Successfully uninstalled pytest-3.6.4\n",
            "  Attempting uninstall: pandas\n",
            "    Found existing installation: pandas 1.3.5\n",
            "    Uninstalling pandas-1.3.5:\n",
            "      Successfully uninstalled pandas-1.3.5\n",
            "  Attempting uninstall: lightgbm\n",
            "    Found existing installation: lightgbm 2.2.3\n",
            "    Uninstalling lightgbm-2.2.3:\n",
            "      Successfully uninstalled lightgbm-2.2.3\n",
            "\u001b[31mERROR: pip's dependency resolver does not currently take into account all the packages that are installed. This behaviour is the source of the following dependency conflicts.\n",
            "yellowbrick 1.4 requires scikit-learn>=1.0.0, but you have scikit-learn 0.23.1 which is incompatible.\n",
            "xarray 0.20.2 requires pandas>=1.1, but you have pandas 1.0.5 which is incompatible.\n",
            "xarray-einstats 0.2.2 requires numpy>=1.21, but you have numpy 1.19.1 which is incompatible.\n",
            "tensorflow 2.8.2+zzzcolab20220527125636 requires numpy>=1.20, but you have numpy 1.19.1 which is incompatible.\n",
            "imbalanced-learn 0.8.1 requires scikit-learn>=0.24, but you have scikit-learn 0.23.1 which is incompatible.\n",
            "google-colab 1.0.0 requires pandas>=1.1.0; python_version >= \"3.0\", but you have pandas 1.0.5 which is incompatible.\n",
            "datascience 0.10.6 requires folium==0.2.1, but you have folium 0.8.3 which is incompatible.\n",
            "albumentations 0.1.12 requires imgaug<0.2.7,>=0.2.5, but you have imgaug 0.2.9 which is incompatible.\u001b[0m\n",
            "Successfully installed PyYAML-5.3.1 joblib-1.0.0 lazypredict-0.2.9 lightgbm-2.3.1 numpy-1.19.1 pandas-1.0.5 pluggy-0.13.1 pytest-5.4.3 scikit-learn-0.23.1 scipy-1.5.4 tqdm-4.56.0 xgboost-1.1.1\n"
          ]
        },
        {
          "output_type": "display_data",
          "data": {
            "application/vnd.colab-display-data+json": {
              "pip_warning": {
                "packages": [
                  "numpy"
                ]
              }
            }
          },
          "metadata": {}
        }
      ],
      "source": [
        "!pip install lazypredict"
      ]
    },
    {
      "cell_type": "markdown",
      "source": [
        "@@@@@@@@@@**_Please Restart the kernel_**@@@@@@@@@@\n"
      ],
      "metadata": {
        "id": "1s_4slxiZ_fX"
      }
    },
    {
      "cell_type": "code",
      "execution_count": 2,
      "metadata": {
        "colab": {
          "base_uri": "https://localhost:8080/"
        },
        "id": "c_SqF9A5xIO4",
        "outputId": "6247a902-b4c0-49bc-ec30-f0c19080d738"
      },
      "outputs": [
        {
          "output_type": "stream",
          "name": "stderr",
          "text": [
            "/usr/local/lib/python3.7/dist-packages/sklearn/utils/deprecation.py:143: FutureWarning: The sklearn.utils.testing module is  deprecated in version 0.22 and will be removed in version 0.24. The corresponding classes / functions should instead be imported from sklearn.utils. Anything that cannot be imported from sklearn.utils is now part of the private API.\n",
            "  warnings.warn(message, FutureWarning)\n"
          ]
        }
      ],
      "source": [
        "# Data imports\n",
        "import requests\n",
        "\n",
        "# Data manipulation\n",
        "import pandas as pd\n",
        "\n",
        "# Charts\n",
        "import matplotlib.pyplot as plt\n",
        "\n",
        "# EDA\n",
        "from scipy.stats import chi2_contingency\n",
        "\n",
        "# Models\n",
        "from sklearn.ensemble import RandomForestClassifier\n",
        "from sklearn.tree import DecisionTreeClassifier\n",
        "from sklearn.ensemble import AdaBoostClassifier\n",
        "from sklearn.linear_model import LogisticRegression\n",
        "\n",
        "# Model Selection\n",
        "from lazypredict.Supervised import LazyClassifier\n",
        "from sklearn.model_selection import train_test_split\n",
        "from sklearn.model_selection import GridSearchCV\n",
        "from sklearn.model_selection import StratifiedKFold\n",
        "\n",
        "# Evaluation\n",
        "from sklearn.metrics import plot_confusion_matrix\n",
        "from sklearn.metrics import f1_score\n",
        "from sklearn.metrics import accuracy_score\n",
        "from sklearn.metrics import make_scorer\n",
        "\n"
      ]
    },
    {
      "cell_type": "markdown",
      "metadata": {
        "id": "HY1d8qPexIO5"
      },
      "source": [
        "## 1.2 Load Data"
      ]
    },
    {
      "cell_type": "markdown",
      "metadata": {
        "id": "Bgq4-9ydxIO5"
      },
      "source": [
        "According to the Dataset description, the fields can take on the following values:\n",
        "\n",
        "**Class values** - Car Acceptability \n",
        "\n",
        "unacc, acc, good, vgood\n",
        "\n",
        "**Attributes**\n",
        "\n",
        "buying:   vhigh, high, med, low. <br>\n",
        "maint:    vhigh, high, med, low.<br>\n",
        "doors:    2, 3, 4, 5more.<br>\n",
        "persons:  2, 4, more.<br>\n",
        "lug_boot: small, med, big.<br>\n",
        "safety:   low, med, high.<br>\n"
      ]
    },
    {
      "cell_type": "code",
      "source": [
        "# Download Data\n",
        "req = requests.get(\"https://archive.ics.uci.edu/ml/machine-learning-databases/car/car.data\")\n",
        "\n",
        "# Save Data \n",
        "with open(\"car.data\", \"wb\") as f:\n",
        "    f.write(req.content)"
      ],
      "metadata": {
        "id": "GztgxV_z0IaK"
      },
      "execution_count": 3,
      "outputs": []
    },
    {
      "cell_type": "code",
      "execution_count": 4,
      "metadata": {
        "colab": {
          "base_uri": "https://localhost:8080/",
          "height": 223
        },
        "id": "B-Xzr7AKxIO5",
        "outputId": "88dc2d6c-fe6b-45a3-93e7-625cefee1be8"
      },
      "outputs": [
        {
          "output_type": "stream",
          "name": "stdout",
          "text": [
            "(1728, 6)\n"
          ]
        },
        {
          "output_type": "execute_result",
          "data": {
            "text/plain": [
              "  buying  maint doors lug_boot safety  class\n",
              "0  vhigh  vhigh     2    small    low  unacc\n",
              "1  vhigh  vhigh     2    small    med  unacc\n",
              "2  vhigh  vhigh     2    small   high  unacc\n",
              "3  vhigh  vhigh     2      med    low  unacc\n",
              "4  vhigh  vhigh     2      med    med  unacc"
            ],
            "text/html": [
              "\n",
              "  <div id=\"df-9a46433d-28ad-4bb0-8573-e05a40a4086b\">\n",
              "    <div class=\"colab-df-container\">\n",
              "      <div>\n",
              "<style scoped>\n",
              "    .dataframe tbody tr th:only-of-type {\n",
              "        vertical-align: middle;\n",
              "    }\n",
              "\n",
              "    .dataframe tbody tr th {\n",
              "        vertical-align: top;\n",
              "    }\n",
              "\n",
              "    .dataframe thead th {\n",
              "        text-align: right;\n",
              "    }\n",
              "</style>\n",
              "<table border=\"1\" class=\"dataframe\">\n",
              "  <thead>\n",
              "    <tr style=\"text-align: right;\">\n",
              "      <th></th>\n",
              "      <th>buying</th>\n",
              "      <th>maint</th>\n",
              "      <th>doors</th>\n",
              "      <th>lug_boot</th>\n",
              "      <th>safety</th>\n",
              "      <th>class</th>\n",
              "    </tr>\n",
              "  </thead>\n",
              "  <tbody>\n",
              "    <tr>\n",
              "      <th>0</th>\n",
              "      <td>vhigh</td>\n",
              "      <td>vhigh</td>\n",
              "      <td>2</td>\n",
              "      <td>small</td>\n",
              "      <td>low</td>\n",
              "      <td>unacc</td>\n",
              "    </tr>\n",
              "    <tr>\n",
              "      <th>1</th>\n",
              "      <td>vhigh</td>\n",
              "      <td>vhigh</td>\n",
              "      <td>2</td>\n",
              "      <td>small</td>\n",
              "      <td>med</td>\n",
              "      <td>unacc</td>\n",
              "    </tr>\n",
              "    <tr>\n",
              "      <th>2</th>\n",
              "      <td>vhigh</td>\n",
              "      <td>vhigh</td>\n",
              "      <td>2</td>\n",
              "      <td>small</td>\n",
              "      <td>high</td>\n",
              "      <td>unacc</td>\n",
              "    </tr>\n",
              "    <tr>\n",
              "      <th>3</th>\n",
              "      <td>vhigh</td>\n",
              "      <td>vhigh</td>\n",
              "      <td>2</td>\n",
              "      <td>med</td>\n",
              "      <td>low</td>\n",
              "      <td>unacc</td>\n",
              "    </tr>\n",
              "    <tr>\n",
              "      <th>4</th>\n",
              "      <td>vhigh</td>\n",
              "      <td>vhigh</td>\n",
              "      <td>2</td>\n",
              "      <td>med</td>\n",
              "      <td>med</td>\n",
              "      <td>unacc</td>\n",
              "    </tr>\n",
              "  </tbody>\n",
              "</table>\n",
              "</div>\n",
              "      <button class=\"colab-df-convert\" onclick=\"convertToInteractive('df-9a46433d-28ad-4bb0-8573-e05a40a4086b')\"\n",
              "              title=\"Convert this dataframe to an interactive table.\"\n",
              "              style=\"display:none;\">\n",
              "        \n",
              "  <svg xmlns=\"http://www.w3.org/2000/svg\" height=\"24px\"viewBox=\"0 0 24 24\"\n",
              "       width=\"24px\">\n",
              "    <path d=\"M0 0h24v24H0V0z\" fill=\"none\"/>\n",
              "    <path d=\"M18.56 5.44l.94 2.06.94-2.06 2.06-.94-2.06-.94-.94-2.06-.94 2.06-2.06.94zm-11 1L8.5 8.5l.94-2.06 2.06-.94-2.06-.94L8.5 2.5l-.94 2.06-2.06.94zm10 10l.94 2.06.94-2.06 2.06-.94-2.06-.94-.94-2.06-.94 2.06-2.06.94z\"/><path d=\"M17.41 7.96l-1.37-1.37c-.4-.4-.92-.59-1.43-.59-.52 0-1.04.2-1.43.59L10.3 9.45l-7.72 7.72c-.78.78-.78 2.05 0 2.83L4 21.41c.39.39.9.59 1.41.59.51 0 1.02-.2 1.41-.59l7.78-7.78 2.81-2.81c.8-.78.8-2.07 0-2.86zM5.41 20L4 18.59l7.72-7.72 1.47 1.35L5.41 20z\"/>\n",
              "  </svg>\n",
              "      </button>\n",
              "      \n",
              "  <style>\n",
              "    .colab-df-container {\n",
              "      display:flex;\n",
              "      flex-wrap:wrap;\n",
              "      gap: 12px;\n",
              "    }\n",
              "\n",
              "    .colab-df-convert {\n",
              "      background-color: #E8F0FE;\n",
              "      border: none;\n",
              "      border-radius: 50%;\n",
              "      cursor: pointer;\n",
              "      display: none;\n",
              "      fill: #1967D2;\n",
              "      height: 32px;\n",
              "      padding: 0 0 0 0;\n",
              "      width: 32px;\n",
              "    }\n",
              "\n",
              "    .colab-df-convert:hover {\n",
              "      background-color: #E2EBFA;\n",
              "      box-shadow: 0px 1px 2px rgba(60, 64, 67, 0.3), 0px 1px 3px 1px rgba(60, 64, 67, 0.15);\n",
              "      fill: #174EA6;\n",
              "    }\n",
              "\n",
              "    [theme=dark] .colab-df-convert {\n",
              "      background-color: #3B4455;\n",
              "      fill: #D2E3FC;\n",
              "    }\n",
              "\n",
              "    [theme=dark] .colab-df-convert:hover {\n",
              "      background-color: #434B5C;\n",
              "      box-shadow: 0px 1px 3px 1px rgba(0, 0, 0, 0.15);\n",
              "      filter: drop-shadow(0px 1px 2px rgba(0, 0, 0, 0.3));\n",
              "      fill: #FFFFFF;\n",
              "    }\n",
              "  </style>\n",
              "\n",
              "      <script>\n",
              "        const buttonEl =\n",
              "          document.querySelector('#df-9a46433d-28ad-4bb0-8573-e05a40a4086b button.colab-df-convert');\n",
              "        buttonEl.style.display =\n",
              "          google.colab.kernel.accessAllowed ? 'block' : 'none';\n",
              "\n",
              "        async function convertToInteractive(key) {\n",
              "          const element = document.querySelector('#df-9a46433d-28ad-4bb0-8573-e05a40a4086b');\n",
              "          const dataTable =\n",
              "            await google.colab.kernel.invokeFunction('convertToInteractive',\n",
              "                                                     [key], {});\n",
              "          if (!dataTable) return;\n",
              "\n",
              "          const docLinkHtml = 'Like what you see? Visit the ' +\n",
              "            '<a target=\"_blank\" href=https://colab.research.google.com/notebooks/data_table.ipynb>data table notebook</a>'\n",
              "            + ' to learn more about interactive tables.';\n",
              "          element.innerHTML = '';\n",
              "          dataTable['output_type'] = 'display_data';\n",
              "          await google.colab.output.renderOutput(dataTable, element);\n",
              "          const docLink = document.createElement('div');\n",
              "          docLink.innerHTML = docLinkHtml;\n",
              "          element.appendChild(docLink);\n",
              "        }\n",
              "      </script>\n",
              "    </div>\n",
              "  </div>\n",
              "  "
            ]
          },
          "metadata": {},
          "execution_count": 4
        }
      ],
      "source": [
        "# read Data \n",
        "data =  pd.read_csv(\"car.data\", sep=\",\", header = None )\n",
        "data.columns = [\"buying\", \"maint\", \"doors\", \"persons\", \"lug_boot\", \"safety\", \"class\"]\n",
        "\n",
        "# Drop Persons as it is not required in the prediction\n",
        "data.drop(\"persons\", inplace = True, axis = 1)\n",
        "\n",
        "# Summary\n",
        "print(data.shape)\n",
        "data.head()"
      ]
    },
    {
      "cell_type": "code",
      "execution_count": 5,
      "metadata": {
        "colab": {
          "base_uri": "https://localhost:8080/"
        },
        "id": "bYTpCY8OxIO6",
        "outputId": "8c0cfc6d-42e0-4cf4-8a7d-0ac461132557"
      },
      "outputs": [
        {
          "output_type": "execute_result",
          "data": {
            "text/plain": [
              "(856, 6)"
            ]
          },
          "metadata": {},
          "execution_count": 5
        }
      ],
      "source": [
        "# Check for duplicated records - 856 duplicates found\n",
        "data.drop_duplicates().shape"
      ]
    },
    {
      "cell_type": "code",
      "source": [
        "# Drop duplicates\n",
        "data = data.drop_duplicates()"
      ],
      "metadata": {
        "id": "Gx6cQ4JJsPM7"
      },
      "execution_count": 6,
      "outputs": []
    },
    {
      "cell_type": "code",
      "execution_count": 7,
      "metadata": {
        "colab": {
          "base_uri": "https://localhost:8080/"
        },
        "id": "GuQc4MUlxIO7",
        "outputId": "e2c83b14-0d97-4ec3-d58c-3d80e9e49ed7"
      },
      "outputs": [
        {
          "output_type": "stream",
          "name": "stdout",
          "text": [
            "<class 'pandas.core.frame.DataFrame'>\n",
            "Int64Index: 856 entries, 0 to 1718\n",
            "Data columns (total 6 columns):\n",
            " #   Column    Non-Null Count  Dtype \n",
            "---  ------    --------------  ----- \n",
            " 0   buying    856 non-null    object\n",
            " 1   maint     856 non-null    object\n",
            " 2   doors     856 non-null    object\n",
            " 3   lug_boot  856 non-null    object\n",
            " 4   safety    856 non-null    object\n",
            " 5   class     856 non-null    object\n",
            "dtypes: object(6)\n",
            "memory usage: 46.8+ KB\n"
          ]
        }
      ],
      "source": [
        "data.info()"
      ]
    },
    {
      "cell_type": "code",
      "execution_count": 8,
      "metadata": {
        "colab": {
          "base_uri": "https://localhost:8080/",
          "height": 175
        },
        "id": "a6unxfDIxIO8",
        "outputId": "893d0d27-1c19-4722-9943-2bc25513a5ae"
      },
      "outputs": [
        {
          "output_type": "execute_result",
          "data": {
            "text/plain": [
              "       buying maint doors lug_boot safety  class\n",
              "count     856   856   856      856    856    856\n",
              "unique      4     4     4        3      3      4\n",
              "top       low   low     3      med   high  unacc\n",
              "freq      240   234   222      296    353    576"
            ],
            "text/html": [
              "\n",
              "  <div id=\"df-c60d16c3-ac01-4ad1-b2a8-389356ca99c0\">\n",
              "    <div class=\"colab-df-container\">\n",
              "      <div>\n",
              "<style scoped>\n",
              "    .dataframe tbody tr th:only-of-type {\n",
              "        vertical-align: middle;\n",
              "    }\n",
              "\n",
              "    .dataframe tbody tr th {\n",
              "        vertical-align: top;\n",
              "    }\n",
              "\n",
              "    .dataframe thead th {\n",
              "        text-align: right;\n",
              "    }\n",
              "</style>\n",
              "<table border=\"1\" class=\"dataframe\">\n",
              "  <thead>\n",
              "    <tr style=\"text-align: right;\">\n",
              "      <th></th>\n",
              "      <th>buying</th>\n",
              "      <th>maint</th>\n",
              "      <th>doors</th>\n",
              "      <th>lug_boot</th>\n",
              "      <th>safety</th>\n",
              "      <th>class</th>\n",
              "    </tr>\n",
              "  </thead>\n",
              "  <tbody>\n",
              "    <tr>\n",
              "      <th>count</th>\n",
              "      <td>856</td>\n",
              "      <td>856</td>\n",
              "      <td>856</td>\n",
              "      <td>856</td>\n",
              "      <td>856</td>\n",
              "      <td>856</td>\n",
              "    </tr>\n",
              "    <tr>\n",
              "      <th>unique</th>\n",
              "      <td>4</td>\n",
              "      <td>4</td>\n",
              "      <td>4</td>\n",
              "      <td>3</td>\n",
              "      <td>3</td>\n",
              "      <td>4</td>\n",
              "    </tr>\n",
              "    <tr>\n",
              "      <th>top</th>\n",
              "      <td>low</td>\n",
              "      <td>low</td>\n",
              "      <td>3</td>\n",
              "      <td>med</td>\n",
              "      <td>high</td>\n",
              "      <td>unacc</td>\n",
              "    </tr>\n",
              "    <tr>\n",
              "      <th>freq</th>\n",
              "      <td>240</td>\n",
              "      <td>234</td>\n",
              "      <td>222</td>\n",
              "      <td>296</td>\n",
              "      <td>353</td>\n",
              "      <td>576</td>\n",
              "    </tr>\n",
              "  </tbody>\n",
              "</table>\n",
              "</div>\n",
              "      <button class=\"colab-df-convert\" onclick=\"convertToInteractive('df-c60d16c3-ac01-4ad1-b2a8-389356ca99c0')\"\n",
              "              title=\"Convert this dataframe to an interactive table.\"\n",
              "              style=\"display:none;\">\n",
              "        \n",
              "  <svg xmlns=\"http://www.w3.org/2000/svg\" height=\"24px\"viewBox=\"0 0 24 24\"\n",
              "       width=\"24px\">\n",
              "    <path d=\"M0 0h24v24H0V0z\" fill=\"none\"/>\n",
              "    <path d=\"M18.56 5.44l.94 2.06.94-2.06 2.06-.94-2.06-.94-.94-2.06-.94 2.06-2.06.94zm-11 1L8.5 8.5l.94-2.06 2.06-.94-2.06-.94L8.5 2.5l-.94 2.06-2.06.94zm10 10l.94 2.06.94-2.06 2.06-.94-2.06-.94-.94-2.06-.94 2.06-2.06.94z\"/><path d=\"M17.41 7.96l-1.37-1.37c-.4-.4-.92-.59-1.43-.59-.52 0-1.04.2-1.43.59L10.3 9.45l-7.72 7.72c-.78.78-.78 2.05 0 2.83L4 21.41c.39.39.9.59 1.41.59.51 0 1.02-.2 1.41-.59l7.78-7.78 2.81-2.81c.8-.78.8-2.07 0-2.86zM5.41 20L4 18.59l7.72-7.72 1.47 1.35L5.41 20z\"/>\n",
              "  </svg>\n",
              "      </button>\n",
              "      \n",
              "  <style>\n",
              "    .colab-df-container {\n",
              "      display:flex;\n",
              "      flex-wrap:wrap;\n",
              "      gap: 12px;\n",
              "    }\n",
              "\n",
              "    .colab-df-convert {\n",
              "      background-color: #E8F0FE;\n",
              "      border: none;\n",
              "      border-radius: 50%;\n",
              "      cursor: pointer;\n",
              "      display: none;\n",
              "      fill: #1967D2;\n",
              "      height: 32px;\n",
              "      padding: 0 0 0 0;\n",
              "      width: 32px;\n",
              "    }\n",
              "\n",
              "    .colab-df-convert:hover {\n",
              "      background-color: #E2EBFA;\n",
              "      box-shadow: 0px 1px 2px rgba(60, 64, 67, 0.3), 0px 1px 3px 1px rgba(60, 64, 67, 0.15);\n",
              "      fill: #174EA6;\n",
              "    }\n",
              "\n",
              "    [theme=dark] .colab-df-convert {\n",
              "      background-color: #3B4455;\n",
              "      fill: #D2E3FC;\n",
              "    }\n",
              "\n",
              "    [theme=dark] .colab-df-convert:hover {\n",
              "      background-color: #434B5C;\n",
              "      box-shadow: 0px 1px 3px 1px rgba(0, 0, 0, 0.15);\n",
              "      filter: drop-shadow(0px 1px 2px rgba(0, 0, 0, 0.3));\n",
              "      fill: #FFFFFF;\n",
              "    }\n",
              "  </style>\n",
              "\n",
              "      <script>\n",
              "        const buttonEl =\n",
              "          document.querySelector('#df-c60d16c3-ac01-4ad1-b2a8-389356ca99c0 button.colab-df-convert');\n",
              "        buttonEl.style.display =\n",
              "          google.colab.kernel.accessAllowed ? 'block' : 'none';\n",
              "\n",
              "        async function convertToInteractive(key) {\n",
              "          const element = document.querySelector('#df-c60d16c3-ac01-4ad1-b2a8-389356ca99c0');\n",
              "          const dataTable =\n",
              "            await google.colab.kernel.invokeFunction('convertToInteractive',\n",
              "                                                     [key], {});\n",
              "          if (!dataTable) return;\n",
              "\n",
              "          const docLinkHtml = 'Like what you see? Visit the ' +\n",
              "            '<a target=\"_blank\" href=https://colab.research.google.com/notebooks/data_table.ipynb>data table notebook</a>'\n",
              "            + ' to learn more about interactive tables.';\n",
              "          element.innerHTML = '';\n",
              "          dataTable['output_type'] = 'display_data';\n",
              "          await google.colab.output.renderOutput(dataTable, element);\n",
              "          const docLink = document.createElement('div');\n",
              "          docLink.innerHTML = docLinkHtml;\n",
              "          element.appendChild(docLink);\n",
              "        }\n",
              "      </script>\n",
              "    </div>\n",
              "  </div>\n",
              "  "
            ]
          },
          "metadata": {},
          "execution_count": 8
        }
      ],
      "source": [
        "data.describe()"
      ]
    },
    {
      "cell_type": "code",
      "source": [
        "data[\"buying\"].value_counts()/ len(data)"
      ],
      "metadata": {
        "colab": {
          "base_uri": "https://localhost:8080/"
        },
        "id": "46u3yLGS1oiw",
        "outputId": "cd528190-c581-4f89-9e55-d4ace3b07fb7"
      },
      "execution_count": 9,
      "outputs": [
        {
          "output_type": "execute_result",
          "data": {
            "text/plain": [
              "low     0.28\n",
              "med     0.27\n",
              "high    0.23\n",
              "vhigh   0.21\n",
              "Name: buying, dtype: float64"
            ]
          },
          "metadata": {},
          "execution_count": 9
        }
      ]
    },
    {
      "cell_type": "markdown",
      "metadata": {
        "id": "swWF6GPQxIO8"
      },
      "source": [
        "# 2 Exploratory Data Analysis (EDA)"
      ]
    },
    {
      "cell_type": "markdown",
      "source": [
        "## 2.1 Distribution"
      ],
      "metadata": {
        "id": "OXWNiyCu6edS"
      }
    },
    {
      "cell_type": "markdown",
      "metadata": {
        "id": "jKk2i3XTxIO9"
      },
      "source": [
        "Check the distributions of variables for each buying class"
      ]
    },
    {
      "cell_type": "code",
      "execution_count": 10,
      "metadata": {
        "colab": {
          "base_uri": "https://localhost:8080/",
          "height": 1000
        },
        "id": "vnORFeLJxIO9",
        "outputId": "023e886b-e550-4948-a168-db9323c2e6e8"
      },
      "outputs": [
        {
          "output_type": "display_data",
          "data": {
            "text/plain": [
              "<Figure size 864x432 with 6 Axes>"
            ],
            "image/png": "[encoded data removed]"
          },
          "metadata": {
            "needs_background": "light"
          }
        },
        {
          "output_type": "display_data",
          "data": {
            "text/plain": [
              "<Figure size 864x432 with 6 Axes>"
            ],
            "image/png": "[encoded data removed]"
          },
          "metadata": {
            "needs_background": "light"
          }
        },
        {
          "output_type": "display_data",
          "data": {
            "text/plain": [
              "<Figure size 864x432 with 6 Axes>"
            ],
            "image/png": "[encoded data removed]"
          },
          "metadata": {
            "needs_background": "light"
          }
        },
        {
          "output_type": "display_data",
          "data": {
            "text/plain": [
              "<Figure size 864x432 with 6 Axes>"
            ],
            "image/png": "[encoded data removed]"
          },
          "metadata": {
            "needs_background": "light"
          }
        }
      ],
      "source": [
        "# Function to plot the distributions based on a filter rule\n",
        "def plot_distributions(subset_rule, title):\n",
        "    plot_data = data[subset_rule] \n",
        "    fig, ax = plt.subplots(2, 3, figsize=(12,6))\n",
        "    fig.suptitle(f\"Distribution of Variables for {title}\")\n",
        "    fig.tight_layout()\n",
        "    fig.subplots_adjust(top=0.92)\n",
        "    for i, categorical_feature in enumerate(data):\n",
        "        plot = plot_data[categorical_feature].value_counts().plot(kind = \"bar\", ax=ax[i // 3][i % 3])\n",
        "        plot.set_title(categorical_feature)\n",
        "        plot.tick_params(axis='x', rotation=0)\n",
        "    fig.show()\n",
        "\n",
        "# Plot the distributions based on the different classes in buying\n",
        "for buying_class in [\"low\", \"med\", \"high\", \"vhigh\"]:\n",
        "    subset_rule = data[\"buying\"] == buying_class\n",
        "    plot_distributions(subset_rule, buying_class)"
      ]
    },
    {
      "cell_type": "markdown",
      "source": [
        "From the distribution plots it can be seen that only **class** is helpful for predicting **buying**, as all the other variables seem to have somewhat of the same distributions for each buying category. "
      ],
      "metadata": {
        "id": "gQ6186_p7NPq"
      }
    },
    {
      "cell_type": "markdown",
      "source": [
        "## 2.2 Chi-Square test of independence \n"
      ],
      "metadata": {
        "id": "H1BcmA1C6agI"
      }
    },
    {
      "cell_type": "markdown",
      "source": [
        "H0: Variables are independent <br>\n",
        "HA: Variables are dependent <br>\n",
        "Test on 95% confidence  "
      ],
      "metadata": {
        "id": "ddk-7cU26vlC"
      }
    },
    {
      "cell_type": "code",
      "source": [
        "for col in data.columns:\n",
        "    crosstab = pd.crosstab(data[\"buying\"], data[col])\n",
        "    print(crosstab)\n",
        "\n",
        "    stat, p, dof, expected = chi2_contingency(crosstab)\n",
        "    p_value_str = f\"The P-value is {p}\"\n",
        "    if p <0.5:\n",
        "        p_value_str += \" which is lesser than 0.05, hence we can reject the null hypothesis.\"\n",
        "    else:\n",
        "        p_value_str += \" which is more than 0.05, hence we cannot reject the null hypothesis.\"\n",
        "    print(p_value_str)\n",
        "\n",
        "    print(\"\\n\")"
      ],
      "metadata": {
        "colab": {
          "base_uri": "https://localhost:8080/"
        },
        "id": "pa1fH__U7eUf",
        "outputId": "96f47ccb-d2c4-4e80-a9c3-2e1d99cb33a5"
      },
      "execution_count": 11,
      "outputs": [
        {
          "output_type": "stream",
          "name": "stdout",
          "text": [
            "buying  high  low  med  vhigh\n",
            "buying                       \n",
            "high     201    0    0      0\n",
            "low        0  240    0      0\n",
            "med        0    0  233      0\n",
            "vhigh      0    0    0    182\n",
            "The P-value is 0.0 which is lesser than 0.05, hence we can reject the null hypothesis.\n",
            "\n",
            "\n",
            "maint   high  low  med  vhigh\n",
            "buying                       \n",
            "high      55   55   55     36\n",
            "low       61   62   62     55\n",
            "med       55   62   61     55\n",
            "vhigh     36   55   55     36\n",
            "The P-value is 0.708986771322955 which is more than 0.05, hence we cannot reject the null hypothesis.\n",
            "\n",
            "\n",
            "doors    2   3   4  5more\n",
            "buying                   \n",
            "high    48  51  51     51\n",
            "low     58  64  59     59\n",
            "med     56  61  58     58\n",
            "vhigh   44  46  46     46\n",
            "The P-value is 0.9999996172131111 which is more than 0.05, hence we cannot reject the null hypothesis.\n",
            "\n",
            "\n",
            "lug_boot  big  med  small\n",
            "buying                   \n",
            "high       72   69     60\n",
            "low        80   84     76\n",
            "med        80   81     72\n",
            "vhigh      64   62     56\n",
            "The P-value is 0.9990873884003317 which is more than 0.05, hence we cannot reject the null hypothesis.\n",
            "\n",
            "\n",
            "safety  high  low  med\n",
            "buying                \n",
            "high      84   48   69\n",
            "low       99   48   93\n",
            "med       98   48   87\n",
            "vhigh     72   48   62\n",
            "The P-value is 0.7389373931009069 which is more than 0.05, hence we cannot reject the null hypothesis.\n",
            "\n",
            "\n",
            "class   acc  good  unacc  vgood\n",
            "buying                         \n",
            "high     57     0    144      0\n",
            "low      49    26    144     21\n",
            "med      62    13    144     14\n",
            "vhigh    38     0    144      0\n",
            "The P-value is 1.1174222727397318e-13 which is lesser than 0.05, hence we can reject the null hypothesis.\n",
            "\n",
            "\n"
          ]
        }
      ]
    },
    {
      "cell_type": "markdown",
      "source": [
        "Since all variables except for **class** seems to be _independent_ from buying."
      ],
      "metadata": {
        "id": "_DhJgCoX7LM8"
      }
    },
    {
      "cell_type": "markdown",
      "source": [
        "## 2.3. EDA Conclusion "
      ],
      "metadata": {
        "id": "sUBg724p8Nk6"
      }
    },
    {
      "cell_type": "markdown",
      "source": [
        "We discovered that **class** is the only variable that is significant in predicting **buying**. However, it may also be possible that the other variables, in conjunction with **class** may help to provide better predictions, as they might not have the same distributions after conditioning for class. \n",
        "\n",
        "It would be tedious to eyeball every single combination, hence we will instead experiment later on section 4 to see if there is any performance gain for including the rest of the variables. If there is no significant performance gain, then I will opt to only keep **class** as the features. "
      ],
      "metadata": {
        "id": "nuGZvQgc8R2s"
      }
    },
    {
      "cell_type": "markdown",
      "metadata": {
        "id": "r87HBehUxIO-"
      },
      "source": [
        "# 3 Feature Engineering"
      ]
    },
    {
      "cell_type": "markdown",
      "source": [
        "## 3.1 Encoding"
      ],
      "metadata": {
        "id": "gilWjae99Dps"
      }
    },
    {
      "cell_type": "markdown",
      "metadata": {
        "id": "bjCxiJsjxIO-"
      },
      "source": [
        "**One-hot vs Ordinal Encoding**\n",
        "\n",
        "Since all features are Ordinal i.e. _doors_ consists of the values [2, 3, 4, 5more]. <br>\n",
        "Ordinal Encoding is prefered as it preserves some aspect of order while One-hot Encoding disregards the order of the categories.\n",
        "Hence **Ordinal Encoding is chosen as the best encoding method** in this case.\n"
      ]
    },
    {
      "cell_type": "code",
      "execution_count": 12,
      "metadata": {
        "colab": {
          "base_uri": "https://localhost:8080/"
        },
        "id": "LCoUob9XxIO_",
        "outputId": "906dd89f-064e-4125-dc90-3ed679b6bf86"
      },
      "outputs": [
        {
          "output_type": "execute_result",
          "data": {
            "text/plain": [
              "Index(['buying', 'maint', 'doors', 'lug_boot', 'safety', 'class'], dtype='object')"
            ]
          },
          "metadata": {},
          "execution_count": 12
        }
      ],
      "source": [
        "data.columns"
      ]
    },
    {
      "cell_type": "code",
      "execution_count": 13,
      "metadata": {
        "id": "2vYBzEdZxIO_"
      },
      "outputs": [],
      "source": [
        "ordinal_encoding = {'buying': {\"vhigh\" : 4, \"high\" : 3, \"med\" : 2, \"low\": 1},\n",
        "                  'maint': {\"vhigh\" : 4, \"high\" : 3, \"med\" : 2, \"low\": 1},\n",
        "                  'doors': {\"2\" : 1, \"3\" : 2, \"4\" : 3, \"5more\": 4},\n",
        "                  'persons': {\"2\" : 1, \"4\" : 2, \"more\" : 3},\n",
        "                  'lug_boot': {\"small\" : 1, \"med\" : 2, \"big\": 3},\n",
        "                  'safety': { \"high\" : 3, \"med\" : 2, \"low\": 1},\n",
        "                  'class': {\"unacc\" : 1, \"acc\": 2, \"good\": 3, \"vgood\": 4}}\n",
        "\n",
        "encoded_data = data.replace(ordinal_encoding)"
      ]
    },
    {
      "cell_type": "markdown",
      "metadata": {
        "id": "IRJTpRRXxIPA"
      },
      "source": [
        "# 4 Model Selection"
      ]
    },
    {
      "cell_type": "markdown",
      "source": [
        "## 4.1 Stratified Train Test Split"
      ],
      "metadata": {
        "id": "Ga_W8n6BC5Ue"
      }
    },
    {
      "cell_type": "markdown",
      "source": [
        "We stratify by **buying** to mantain the same proportion "
      ],
      "metadata": {
        "id": "SJtUEzASC_q5"
      }
    },
    {
      "cell_type": "code",
      "source": [
        "y = encoded_data[\"buying\"]"
      ],
      "metadata": {
        "id": "PAq01olwDdV6"
      },
      "execution_count": 14,
      "outputs": []
    },
    {
      "cell_type": "markdown",
      "source": [
        "**All Features**"
      ],
      "metadata": {
        "id": "mgR4z4XcDecS"
      }
    },
    {
      "cell_type": "code",
      "execution_count": 15,
      "metadata": {
        "colab": {
          "base_uri": "https://localhost:8080/"
        },
        "id": "H7YQ3MmpxIPA",
        "outputId": "23295b42-c727-452d-84c5-6266de85a5e0"
      },
      "outputs": [
        {
          "output_type": "execute_result",
          "data": {
            "text/plain": [
              "[(727, 5), (129, 5), (727,), (129,)]"
            ]
          },
          "metadata": {},
          "execution_count": 15
        }
      ],
      "source": [
        "# All Features\n",
        "test_size = 0.15\n",
        "random_state = 4\n",
        "X = encoded_data.drop(\"buying\", axis = 1)\n",
        "X_train, X_test, y_train, y_test = train_test_split(X, y, test_size=test_size, random_state=random_state, stratify = y)\n",
        "\n",
        "[x.shape for x in [X_train, X_test, y_train, y_test]]"
      ]
    },
    {
      "cell_type": "code",
      "source": [
        "y_train.value_counts() / len(y_train)"
      ],
      "metadata": {
        "colab": {
          "base_uri": "https://localhost:8080/"
        },
        "id": "5Sk-8AAbDFlU",
        "outputId": "2c107a84-c30a-4f77-cb2a-a052b9dc35b8"
      },
      "execution_count": 16,
      "outputs": [
        {
          "output_type": "execute_result",
          "data": {
            "text/plain": [
              "1   0.28\n",
              "2   0.27\n",
              "3   0.24\n",
              "4   0.21\n",
              "Name: buying, dtype: float64"
            ]
          },
          "metadata": {},
          "execution_count": 16
        }
      ]
    },
    {
      "cell_type": "code",
      "source": [
        "y_test.value_counts() / len(y_test)"
      ],
      "metadata": {
        "colab": {
          "base_uri": "https://localhost:8080/"
        },
        "id": "AULLdkXDDX4C",
        "outputId": "17d4866e-dd4e-4219-f1ab-3be064544251"
      },
      "execution_count": 17,
      "outputs": [
        {
          "output_type": "execute_result",
          "data": {
            "text/plain": [
              "1   0.28\n",
              "2   0.27\n",
              "3   0.23\n",
              "4   0.22\n",
              "Name: buying, dtype: float64"
            ]
          },
          "metadata": {},
          "execution_count": 17
        }
      ]
    },
    {
      "cell_type": "markdown",
      "source": [
        "**Class Only**"
      ],
      "metadata": {
        "id": "lwiuUONfDiYR"
      }
    },
    {
      "cell_type": "code",
      "source": [
        "# Features - class only \n",
        "# These are marked with a _c \n",
        "X_c = encoded_data[[\"class\"]]\n",
        "X_train_c, X_test_c, y_train_c, y_test_c = train_test_split(X_c, y, test_size=test_size, random_state=random_state, stratify = y)\n",
        "[x.shape for x in [X_train_c, X_test_c, y_train_c, y_test_c]]"
      ],
      "metadata": {
        "colab": {
          "base_uri": "https://localhost:8080/"
        },
        "id": "fHmyiM-HCyVc",
        "outputId": "62285817-ec82-42ff-aa02-d42fe96b0372"
      },
      "execution_count": 18,
      "outputs": [
        {
          "output_type": "execute_result",
          "data": {
            "text/plain": [
              "[(727, 1), (129, 1), (727,), (129,)]"
            ]
          },
          "metadata": {},
          "execution_count": 18
        }
      ]
    },
    {
      "cell_type": "code",
      "source": [
        "y_train_c.value_counts() / len(y_train_c)"
      ],
      "metadata": {
        "colab": {
          "base_uri": "https://localhost:8080/"
        },
        "id": "EewgE4oNDn_a",
        "outputId": "7bb95b0e-67ed-49f2-ce63-1e5238d34fe4"
      },
      "execution_count": 19,
      "outputs": [
        {
          "output_type": "execute_result",
          "data": {
            "text/plain": [
              "1   0.28\n",
              "2   0.27\n",
              "3   0.24\n",
              "4   0.21\n",
              "Name: buying, dtype: float64"
            ]
          },
          "metadata": {},
          "execution_count": 19
        }
      ]
    },
    {
      "cell_type": "code",
      "source": [
        "y_test_c.value_counts() / len(y_test_c)"
      ],
      "metadata": {
        "colab": {
          "base_uri": "https://localhost:8080/"
        },
        "id": "nMn7MzSADoqH",
        "outputId": "58037968-b51b-417e-e5b9-a5f9f2735aed"
      },
      "execution_count": 20,
      "outputs": [
        {
          "output_type": "execute_result",
          "data": {
            "text/plain": [
              "1   0.28\n",
              "2   0.27\n",
              "3   0.23\n",
              "4   0.22\n",
              "Name: buying, dtype: float64"
            ]
          },
          "metadata": {},
          "execution_count": 20
        }
      ]
    },
    {
      "cell_type": "markdown",
      "source": [
        "## 4.2 LazyPredict"
      ],
      "metadata": {
        "id": "ajpn-4RtDrcz"
      }
    },
    {
      "cell_type": "markdown",
      "source": [
        "**LazyPredict** is a library that quickly evaluates many different models based on the data. \n",
        "\n",
        "We can pick the best models here to inspect and tune further."
      ],
      "metadata": {
        "id": "uRxbjOkiD6sy"
      }
    },
    {
      "cell_type": "markdown",
      "source": [
        "**All Features**"
      ],
      "metadata": {
        "id": "P1tEXJWDDwlg"
      }
    },
    {
      "cell_type": "code",
      "execution_count": 21,
      "metadata": {
        "colab": {
          "base_uri": "https://localhost:8080/"
        },
        "id": "uMzSz_WqxIPA",
        "outputId": "2d9ea672-1b3e-4114-8fa3-7191d5bc6ca9"
      },
      "outputs": [
        {
          "output_type": "stream",
          "name": "stderr",
          "text": [
            "100%|██████████| 29/29 [00:05<00:00,  5.48it/s]\n"
          ]
        }
      ],
      "source": [
        "clf = LazyClassifier(verbose=0,ignore_warnings=True, custom_metric=None)\n",
        "models,predictions = clf.fit(X_train, X_test, y_train, y_test)"
      ]
    },
    {
      "cell_type": "code",
      "source": [
        "models"
      ],
      "metadata": {
        "colab": {
          "base_uri": "https://localhost:8080/",
          "height": 927
        },
        "id": "CLt8JvKR08Sg",
        "outputId": "80135eb9-7ed5-4c5b-8b27-ac737f29b8e4"
      },
      "execution_count": 22,
      "outputs": [
        {
          "output_type": "execute_result",
          "data": {
            "text/plain": [
              "                               Accuracy  Balanced Accuracy ROC AUC  F1 Score  \\\n",
              "Model                                                                          \n",
              "AdaBoostClassifier                 0.32               0.32    None      0.32   \n",
              "Perceptron                         0.31               0.31    None      0.28   \n",
              "CalibratedClassifierCV             0.28               0.27    None      0.27   \n",
              "SGDClassifier                      0.27               0.26    None      0.23   \n",
              "DummyClassifier                    0.25               0.25    None      0.24   \n",
              "PassiveAggressiveClassifier        0.26               0.24    None      0.17   \n",
              "LogisticRegression                 0.24               0.24    None      0.22   \n",
              "LinearSVC                          0.24               0.24    None      0.20   \n",
              "LinearDiscriminantAnalysis         0.24               0.23    None      0.22   \n",
              "RidgeClassifierCV                  0.23               0.23    None      0.19   \n",
              "RidgeClassifier                    0.23               0.23    None      0.19   \n",
              "GaussianNB                         0.21               0.22    None      0.20   \n",
              "NearestCentroid                    0.21               0.22    None      0.19   \n",
              "QuadraticDiscriminantAnalysis      0.20               0.21    None      0.19   \n",
              "BernoulliNB                        0.21               0.20    None      0.19   \n",
              "SVC                                0.19               0.19    None      0.18   \n",
              "NuSVC                              0.09               0.08    None      0.08   \n",
              "KNeighborsClassifier               0.05               0.05    None      0.05   \n",
              "LGBMClassifier                     0.04               0.04    None      0.04   \n",
              "DecisionTreeClassifier             0.02               0.02    None      0.02   \n",
              "RandomForestClassifier             0.02               0.02    None      0.02   \n",
              "ExtraTreesClassifier               0.02               0.02    None      0.02   \n",
              "BaggingClassifier                  0.02               0.02    None      0.02   \n",
              "LabelSpreading                     0.02               0.02    None      0.02   \n",
              "LabelPropagation                   0.02               0.02    None      0.02   \n",
              "XGBClassifier                      0.02               0.02    None      0.02   \n",
              "ExtraTreeClassifier                0.02               0.02    None      0.02   \n",
              "\n",
              "                               Time Taken  \n",
              "Model                                      \n",
              "AdaBoostClassifier                   0.11  \n",
              "Perceptron                           0.02  \n",
              "CalibratedClassifierCV               0.20  \n",
              "SGDClassifier                        0.03  \n",
              "DummyClassifier                      0.01  \n",
              "PassiveAggressiveClassifier          0.02  \n",
              "LogisticRegression                   0.03  \n",
              "LinearSVC                            0.07  \n",
              "LinearDiscriminantAnalysis           0.03  \n",
              "RidgeClassifierCV                    0.01  \n",
              "RidgeClassifier                      0.02  \n",
              "GaussianNB                           0.01  \n",
              "NearestCentroid                      0.02  \n",
              "QuadraticDiscriminantAnalysis        0.01  \n",
              "BernoulliNB                          0.01  \n",
              "SVC                                  0.05  \n",
              "NuSVC                                0.11  \n",
              "KNeighborsClassifier                 0.02  \n",
              "LGBMClassifier                       1.34  \n",
              "DecisionTreeClassifier               0.01  \n",
              "RandomForestClassifier               0.22  \n",
              "ExtraTreesClassifier                 0.19  \n",
              "BaggingClassifier                    0.04  \n",
              "LabelSpreading                       0.06  \n",
              "LabelPropagation                     0.05  \n",
              "XGBClassifier                        2.57  \n",
              "ExtraTreeClassifier                  0.01  "
            ],
            "text/html": [
              "\n",
              "  <div id=\"df-8ab8a7ca-631c-4dde-b279-aff19d0d755e\">\n",
              "    <div class=\"colab-df-container\">\n",
              "      <div>\n",
              "<style scoped>\n",
              "    .dataframe tbody tr th:only-of-type {\n",
              "        vertical-align: middle;\n",
              "    }\n",
              "\n",
              "    .dataframe tbody tr th {\n",
              "        vertical-align: top;\n",
              "    }\n",
              "\n",
              "    .dataframe thead th {\n",
              "        text-align: right;\n",
              "    }\n",
              "</style>\n",
              "<table border=\"1\" class=\"dataframe\">\n",
              "  <thead>\n",
              "    <tr style=\"text-align: right;\">\n",
              "      <th></th>\n",
              "      <th>Accuracy</th>\n",
              "      <th>Balanced Accuracy</th>\n",
              "      <th>ROC AUC</th>\n",
              "      <th>F1 Score</th>\n",
              "      <th>Time Taken</th>\n",
              "    </tr>\n",
              "    <tr>\n",
              "      <th>Model</th>\n",
              "      <th></th>\n",
              "      <th></th>\n",
              "      <th></th>\n",
              "      <th></th>\n",
              "      <th></th>\n",
              "    </tr>\n",
              "  </thead>\n",
              "  <tbody>\n",
              "    <tr>\n",
              "      <th>AdaBoostClassifier</th>\n",
              "      <td>0.32</td>\n",
              "      <td>0.32</td>\n",
              "      <td>None</td>\n",
              "      <td>0.32</td>\n",
              "      <td>0.11</td>\n",
              "    </tr>\n",
              "    <tr>\n",
              "      <th>Perceptron</th>\n",
              "      <td>0.31</td>\n",
              "      <td>0.31</td>\n",
              "      <td>None</td>\n",
              "      <td>0.28</td>\n",
              "      <td>0.02</td>\n",
              "    </tr>\n",
              "    <tr>\n",
              "      <th>CalibratedClassifierCV</th>\n",
              "      <td>0.28</td>\n",
              "      <td>0.27</td>\n",
              "      <td>None</td>\n",
              "      <td>0.27</td>\n",
              "      <td>0.20</td>\n",
              "    </tr>\n",
              "    <tr>\n",
              "      <th>SGDClassifier</th>\n",
              "      <td>0.27</td>\n",
              "      <td>0.26</td>\n",
              "      <td>None</td>\n",
              "      <td>0.23</td>\n",
              "      <td>0.03</td>\n",
              "    </tr>\n",
              "    <tr>\n",
              "      <th>DummyClassifier</th>\n",
              "      <td>0.25</td>\n",
              "      <td>0.25</td>\n",
              "      <td>None</td>\n",
              "      <td>0.24</td>\n",
              "      <td>0.01</td>\n",
              "    </tr>\n",
              "    <tr>\n",
              "      <th>PassiveAggressiveClassifier</th>\n",
              "      <td>0.26</td>\n",
              "      <td>0.24</td>\n",
              "      <td>None</td>\n",
              "      <td>0.17</td>\n",
              "      <td>0.02</td>\n",
              "    </tr>\n",
              "    <tr>\n",
              "      <th>LogisticRegression</th>\n",
              "      <td>0.24</td>\n",
              "      <td>0.24</td>\n",
              "      <td>None</td>\n",
              "      <td>0.22</td>\n",
              "      <td>0.03</td>\n",
              "    </tr>\n",
              "    <tr>\n",
              "      <th>LinearSVC</th>\n",
              "      <td>0.24</td>\n",
              "      <td>0.24</td>\n",
              "      <td>None</td>\n",
              "      <td>0.20</td>\n",
              "      <td>0.07</td>\n",
              "    </tr>\n",
              "    <tr>\n",
              "      <th>LinearDiscriminantAnalysis</th>\n",
              "      <td>0.24</td>\n",
              "      <td>0.23</td>\n",
              "      <td>None</td>\n",
              "      <td>0.22</td>\n",
              "      <td>0.03</td>\n",
              "    </tr>\n",
              "    <tr>\n",
              "      <th>RidgeClassifierCV</th>\n",
              "      <td>0.23</td>\n",
              "      <td>0.23</td>\n",
              "      <td>None</td>\n",
              "      <td>0.19</td>\n",
              "      <td>0.01</td>\n",
              "    </tr>\n",
              "    <tr>\n",
              "      <th>RidgeClassifier</th>\n",
              "      <td>0.23</td>\n",
              "      <td>0.23</td>\n",
              "      <td>None</td>\n",
              "      <td>0.19</td>\n",
              "      <td>0.02</td>\n",
              "    </tr>\n",
              "    <tr>\n",
              "      <th>GaussianNB</th>\n",
              "      <td>0.21</td>\n",
              "      <td>0.22</td>\n",
              "      <td>None</td>\n",
              "      <td>0.20</td>\n",
              "      <td>0.01</td>\n",
              "    </tr>\n",
              "    <tr>\n",
              "      <th>NearestCentroid</th>\n",
              "      <td>0.21</td>\n",
              "      <td>0.22</td>\n",
              "      <td>None</td>\n",
              "      <td>0.19</td>\n",
              "      <td>0.02</td>\n",
              "    </tr>\n",
              "    <tr>\n",
              "      <th>QuadraticDiscriminantAnalysis</th>\n",
              "      <td>0.20</td>\n",
              "      <td>0.21</td>\n",
              "      <td>None</td>\n",
              "      <td>0.19</td>\n",
              "      <td>0.01</td>\n",
              "    </tr>\n",
              "    <tr>\n",
              "      <th>BernoulliNB</th>\n",
              "      <td>0.21</td>\n",
              "      <td>0.20</td>\n",
              "      <td>None</td>\n",
              "      <td>0.19</td>\n",
              "      <td>0.01</td>\n",
              "    </tr>\n",
              "    <tr>\n",
              "      <th>SVC</th>\n",
              "      <td>0.19</td>\n",
              "      <td>0.19</td>\n",
              "      <td>None</td>\n",
              "      <td>0.18</td>\n",
              "      <td>0.05</td>\n",
              "    </tr>\n",
              "    <tr>\n",
              "      <th>NuSVC</th>\n",
              "      <td>0.09</td>\n",
              "      <td>0.08</td>\n",
              "      <td>None</td>\n",
              "      <td>0.08</td>\n",
              "      <td>0.11</td>\n",
              "    </tr>\n",
              "    <tr>\n",
              "      <th>KNeighborsClassifier</th>\n",
              "      <td>0.05</td>\n",
              "      <td>0.05</td>\n",
              "      <td>None</td>\n",
              "      <td>0.05</td>\n",
              "      <td>0.02</td>\n",
              "    </tr>\n",
              "    <tr>\n",
              "      <th>LGBMClassifier</th>\n",
              "      <td>0.04</td>\n",
              "      <td>0.04</td>\n",
              "      <td>None</td>\n",
              "      <td>0.04</td>\n",
              "      <td>1.34</td>\n",
              "    </tr>\n",
              "    <tr>\n",
              "      <th>DecisionTreeClassifier</th>\n",
              "      <td>0.02</td>\n",
              "      <td>0.02</td>\n",
              "      <td>None</td>\n",
              "      <td>0.02</td>\n",
              "      <td>0.01</td>\n",
              "    </tr>\n",
              "    <tr>\n",
              "      <th>RandomForestClassifier</th>\n",
              "      <td>0.02</td>\n",
              "      <td>0.02</td>\n",
              "      <td>None</td>\n",
              "      <td>0.02</td>\n",
              "      <td>0.22</td>\n",
              "    </tr>\n",
              "    <tr>\n",
              "      <th>ExtraTreesClassifier</th>\n",
              "      <td>0.02</td>\n",
              "      <td>0.02</td>\n",
              "      <td>None</td>\n",
              "      <td>0.02</td>\n",
              "      <td>0.19</td>\n",
              "    </tr>\n",
              "    <tr>\n",
              "      <th>BaggingClassifier</th>\n",
              "      <td>0.02</td>\n",
              "      <td>0.02</td>\n",
              "      <td>None</td>\n",
              "      <td>0.02</td>\n",
              "      <td>0.04</td>\n",
              "    </tr>\n",
              "    <tr>\n",
              "      <th>LabelSpreading</th>\n",
              "      <td>0.02</td>\n",
              "      <td>0.02</td>\n",
              "      <td>None</td>\n",
              "      <td>0.02</td>\n",
              "      <td>0.06</td>\n",
              "    </tr>\n",
              "    <tr>\n",
              "      <th>LabelPropagation</th>\n",
              "      <td>0.02</td>\n",
              "      <td>0.02</td>\n",
              "      <td>None</td>\n",
              "      <td>0.02</td>\n",
              "      <td>0.05</td>\n",
              "    </tr>\n",
              "    <tr>\n",
              "      <th>XGBClassifier</th>\n",
              "      <td>0.02</td>\n",
              "      <td>0.02</td>\n",
              "      <td>None</td>\n",
              "      <td>0.02</td>\n",
              "      <td>2.57</td>\n",
              "    </tr>\n",
              "    <tr>\n",
              "      <th>ExtraTreeClassifier</th>\n",
              "      <td>0.02</td>\n",
              "      <td>0.02</td>\n",
              "      <td>None</td>\n",
              "      <td>0.02</td>\n",
              "      <td>0.01</td>\n",
              "    </tr>\n",
              "  </tbody>\n",
              "</table>\n",
              "</div>\n",
              "      <button class=\"colab-df-convert\" onclick=\"convertToInteractive('df-8ab8a7ca-631c-4dde-b279-aff19d0d755e')\"\n",
              "              title=\"Convert this dataframe to an interactive table.\"\n",
              "              style=\"display:none;\">\n",
              "        \n",
              "  <svg xmlns=\"http://www.w3.org/2000/svg\" height=\"24px\"viewBox=\"0 0 24 24\"\n",
              "       width=\"24px\">\n",
              "    <path d=\"M0 0h24v24H0V0z\" fill=\"none\"/>\n",
              "    <path d=\"M18.56 5.44l.94 2.06.94-2.06 2.06-.94-2.06-.94-.94-2.06-.94 2.06-2.06.94zm-11 1L8.5 8.5l.94-2.06 2.06-.94-2.06-.94L8.5 2.5l-.94 2.06-2.06.94zm10 10l.94 2.06.94-2.06 2.06-.94-2.06-.94-.94-2.06-.94 2.06-2.06.94z\"/><path d=\"M17.41 7.96l-1.37-1.37c-.4-.4-.92-.59-1.43-.59-.52 0-1.04.2-1.43.59L10.3 9.45l-7.72 7.72c-.78.78-.78 2.05 0 2.83L4 21.41c.39.39.9.59 1.41.59.51 0 1.02-.2 1.41-.59l7.78-7.78 2.81-2.81c.8-.78.8-2.07 0-2.86zM5.41 20L4 18.59l7.72-7.72 1.47 1.35L5.41 20z\"/>\n",
              "  </svg>\n",
              "      </button>\n",
              "      \n",
              "  <style>\n",
              "    .colab-df-container {\n",
              "      display:flex;\n",
              "      flex-wrap:wrap;\n",
              "      gap: 12px;\n",
              "    }\n",
              "\n",
              "    .colab-df-convert {\n",
              "      background-color: #E8F0FE;\n",
              "      border: none;\n",
              "      border-radius: 50%;\n",
              "      cursor: pointer;\n",
              "      display: none;\n",
              "      fill: #1967D2;\n",
              "      height: 32px;\n",
              "      padding: 0 0 0 0;\n",
              "      width: 32px;\n",
              "    }\n",
              "\n",
              "    .colab-df-convert:hover {\n",
              "      background-color: #E2EBFA;\n",
              "      box-shadow: 0px 1px 2px rgba(60, 64, 67, 0.3), 0px 1px 3px 1px rgba(60, 64, 67, 0.15);\n",
              "      fill: #174EA6;\n",
              "    }\n",
              "\n",
              "    [theme=dark] .colab-df-convert {\n",
              "      background-color: #3B4455;\n",
              "      fill: #D2E3FC;\n",
              "    }\n",
              "\n",
              "    [theme=dark] .colab-df-convert:hover {\n",
              "      background-color: #434B5C;\n",
              "      box-shadow: 0px 1px 3px 1px rgba(0, 0, 0, 0.15);\n",
              "      filter: drop-shadow(0px 1px 2px rgba(0, 0, 0, 0.3));\n",
              "      fill: #FFFFFF;\n",
              "    }\n",
              "  </style>\n",
              "\n",
              "      <script>\n",
              "        const buttonEl =\n",
              "          document.querySelector('#df-8ab8a7ca-631c-4dde-b279-aff19d0d755e button.colab-df-convert');\n",
              "        buttonEl.style.display =\n",
              "          google.colab.kernel.accessAllowed ? 'block' : 'none';\n",
              "\n",
              "        async function convertToInteractive(key) {\n",
              "          const element = document.querySelector('#df-8ab8a7ca-631c-4dde-b279-aff19d0d755e');\n",
              "          const dataTable =\n",
              "            await google.colab.kernel.invokeFunction('convertToInteractive',\n",
              "                                                     [key], {});\n",
              "          if (!dataTable) return;\n",
              "\n",
              "          const docLinkHtml = 'Like what you see? Visit the ' +\n",
              "            '<a target=\"_blank\" href=https://colab.research.google.com/notebooks/data_table.ipynb>data table notebook</a>'\n",
              "            + ' to learn more about interactive tables.';\n",
              "          element.innerHTML = '';\n",
              "          dataTable['output_type'] = 'display_data';\n",
              "          await google.colab.output.renderOutput(dataTable, element);\n",
              "          const docLink = document.createElement('div');\n",
              "          docLink.innerHTML = docLinkHtml;\n",
              "          element.appendChild(docLink);\n",
              "        }\n",
              "      </script>\n",
              "    </div>\n",
              "  </div>\n",
              "  "
            ]
          },
          "metadata": {},
          "execution_count": 22
        }
      ]
    },
    {
      "cell_type": "markdown",
      "source": [
        "**Class Only**"
      ],
      "metadata": {
        "id": "H2I9VCbmD0Gz"
      }
    },
    {
      "cell_type": "code",
      "source": [
        "clf = LazyClassifier(verbose=0,ignore_warnings=True, custom_metric=None)\n",
        "models,predictions = clf.fit(X_train_c, X_test_c, y_train_c, y_test_c)"
      ],
      "metadata": {
        "colab": {
          "base_uri": "https://localhost:8080/"
        },
        "id": "T9YsnHho1Jph",
        "outputId": "e49f58fd-ad23-4743-c6b5-1281a4820e13"
      },
      "execution_count": 23,
      "outputs": [
        {
          "output_type": "stream",
          "name": "stderr",
          "text": [
            "100%|██████████| 29/29 [00:04<00:00,  7.05it/s]\n"
          ]
        }
      ]
    },
    {
      "cell_type": "code",
      "source": [
        "models"
      ],
      "metadata": {
        "colab": {
          "base_uri": "https://localhost:8080/",
          "height": 959
        },
        "id": "JhZPsvlx1Ofx",
        "outputId": "c6a8bf49-9d28-4677-853b-f0a5ebc51e75"
      },
      "execution_count": 24,
      "outputs": [
        {
          "output_type": "execute_result",
          "data": {
            "text/plain": [
              "                               Accuracy  Balanced Accuracy ROC AUC  F1 Score  \\\n",
              "Model                                                                          \n",
              "AdaBoostClassifier                 0.26               0.28    None      0.22   \n",
              "GaussianNB                         0.26               0.28    None      0.22   \n",
              "XGBClassifier                      0.26               0.28    None      0.22   \n",
              "SVC                                0.26               0.28    None      0.22   \n",
              "RandomForestClassifier             0.26               0.28    None      0.22   \n",
              "QuadraticDiscriminantAnalysis      0.26               0.28    None      0.22   \n",
              "BaggingClassifier                  0.26               0.28    None      0.22   \n",
              "LabelSpreading                     0.26               0.28    None      0.22   \n",
              "LabelPropagation                   0.26               0.28    None      0.22   \n",
              "LGBMClassifier                     0.26               0.28    None      0.22   \n",
              "ExtraTreeClassifier                0.26               0.28    None      0.22   \n",
              "ExtraTreesClassifier               0.26               0.28    None      0.22   \n",
              "DecisionTreeClassifier             0.26               0.28    None      0.22   \n",
              "CategoricalNB                      0.29               0.27    None      0.19   \n",
              "Perceptron                         0.27               0.26    None      0.18   \n",
              "SGDClassifier                      0.27               0.25    None      0.12   \n",
              "NuSVC                              0.22               0.25    None      0.08   \n",
              "DummyClassifier                    0.25               0.25    None      0.24   \n",
              "CalibratedClassifierCV             0.24               0.24    None      0.16   \n",
              "RidgeClassifierCV                  0.24               0.24    None      0.16   \n",
              "RidgeClassifier                    0.24               0.24    None      0.16   \n",
              "KNeighborsClassifier               0.24               0.24    None      0.16   \n",
              "LogisticRegression                 0.24               0.24    None      0.16   \n",
              "LinearDiscriminantAnalysis         0.24               0.24    None      0.16   \n",
              "LinearSVC                          0.24               0.24    None      0.16   \n",
              "NearestCentroid                    0.22               0.24    None      0.14   \n",
              "BernoulliNB                        0.22               0.24    None      0.14   \n",
              "PassiveAggressiveClassifier        0.23               0.21    None      0.11   \n",
              "\n",
              "                               Time Taken  \n",
              "Model                                      \n",
              "AdaBoostClassifier                   0.47  \n",
              "GaussianNB                           0.06  \n",
              "XGBClassifier                        1.28  \n",
              "SVC                                  0.07  \n",
              "RandomForestClassifier               0.32  \n",
              "QuadraticDiscriminantAnalysis        0.02  \n",
              "BaggingClassifier                    0.06  \n",
              "LabelSpreading                       0.11  \n",
              "LabelPropagation                     0.06  \n",
              "LGBMClassifier                       0.21  \n",
              "ExtraTreeClassifier                  0.12  \n",
              "ExtraTreesClassifier                 0.38  \n",
              "DecisionTreeClassifier               0.02  \n",
              "CategoricalNB                        0.02  \n",
              "Perceptron                           0.03  \n",
              "SGDClassifier                        0.04  \n",
              "NuSVC                                0.10  \n",
              "DummyClassifier                      0.04  \n",
              "CalibratedClassifierCV               0.23  \n",
              "RidgeClassifierCV                    0.02  \n",
              "RidgeClassifier                      0.02  \n",
              "KNeighborsClassifier                 0.05  \n",
              "LogisticRegression                   0.05  \n",
              "LinearDiscriminantAnalysis           0.03  \n",
              "LinearSVC                            0.05  \n",
              "NearestCentroid                      0.04  \n",
              "BernoulliNB                          0.02  \n",
              "PassiveAggressiveClassifier          0.09  "
            ],
            "text/html": [
              "\n",
              "  <div id=\"df-2aa5dacc-8c43-4816-8678-ae9b37f88b1c\">\n",
              "    <div class=\"colab-df-container\">\n",
              "      <div>\n",
              "<style scoped>\n",
              "    .dataframe tbody tr th:only-of-type {\n",
              "        vertical-align: middle;\n",
              "    }\n",
              "\n",
              "    .dataframe tbody tr th {\n",
              "        vertical-align: top;\n",
              "    }\n",
              "\n",
              "    .dataframe thead th {\n",
              "        text-align: right;\n",
              "    }\n",
              "</style>\n",
              "<table border=\"1\" class=\"dataframe\">\n",
              "  <thead>\n",
              "    <tr style=\"text-align: right;\">\n",
              "      <th></th>\n",
              "      <th>Accuracy</th>\n",
              "      <th>Balanced Accuracy</th>\n",
              "      <th>ROC AUC</th>\n",
              "      <th>F1 Score</th>\n",
              "      <th>Time Taken</th>\n",
              "    </tr>\n",
              "    <tr>\n",
              "      <th>Model</th>\n",
              "      <th></th>\n",
              "      <th></th>\n",
              "      <th></th>\n",
              "      <th></th>\n",
              "      <th></th>\n",
              "    </tr>\n",
              "  </thead>\n",
              "  <tbody>\n",
              "    <tr>\n",
              "      <th>AdaBoostClassifier</th>\n",
              "      <td>0.26</td>\n",
              "      <td>0.28</td>\n",
              "      <td>None</td>\n",
              "      <td>0.22</td>\n",
              "      <td>0.47</td>\n",
              "    </tr>\n",
              "    <tr>\n",
              "      <th>GaussianNB</th>\n",
              "      <td>0.26</td>\n",
              "      <td>0.28</td>\n",
              "      <td>None</td>\n",
              "      <td>0.22</td>\n",
              "      <td>0.06</td>\n",
              "    </tr>\n",
              "    <tr>\n",
              "      <th>XGBClassifier</th>\n",
              "      <td>0.26</td>\n",
              "      <td>0.28</td>\n",
              "      <td>None</td>\n",
              "      <td>0.22</td>\n",
              "      <td>1.28</td>\n",
              "    </tr>\n",
              "    <tr>\n",
              "      <th>SVC</th>\n",
              "      <td>0.26</td>\n",
              "      <td>0.28</td>\n",
              "      <td>None</td>\n",
              "      <td>0.22</td>\n",
              "      <td>0.07</td>\n",
              "    </tr>\n",
              "    <tr>\n",
              "      <th>RandomForestClassifier</th>\n",
              "      <td>0.26</td>\n",
              "      <td>0.28</td>\n",
              "      <td>None</td>\n",
              "      <td>0.22</td>\n",
              "      <td>0.32</td>\n",
              "    </tr>\n",
              "    <tr>\n",
              "      <th>QuadraticDiscriminantAnalysis</th>\n",
              "      <td>0.26</td>\n",
              "      <td>0.28</td>\n",
              "      <td>None</td>\n",
              "      <td>0.22</td>\n",
              "      <td>0.02</td>\n",
              "    </tr>\n",
              "    <tr>\n",
              "      <th>BaggingClassifier</th>\n",
              "      <td>0.26</td>\n",
              "      <td>0.28</td>\n",
              "      <td>None</td>\n",
              "      <td>0.22</td>\n",
              "      <td>0.06</td>\n",
              "    </tr>\n",
              "    <tr>\n",
              "      <th>LabelSpreading</th>\n",
              "      <td>0.26</td>\n",
              "      <td>0.28</td>\n",
              "      <td>None</td>\n",
              "      <td>0.22</td>\n",
              "      <td>0.11</td>\n",
              "    </tr>\n",
              "    <tr>\n",
              "      <th>LabelPropagation</th>\n",
              "      <td>0.26</td>\n",
              "      <td>0.28</td>\n",
              "      <td>None</td>\n",
              "      <td>0.22</td>\n",
              "      <td>0.06</td>\n",
              "    </tr>\n",
              "    <tr>\n",
              "      <th>LGBMClassifier</th>\n",
              "      <td>0.26</td>\n",
              "      <td>0.28</td>\n",
              "      <td>None</td>\n",
              "      <td>0.22</td>\n",
              "      <td>0.21</td>\n",
              "    </tr>\n",
              "    <tr>\n",
              "      <th>ExtraTreeClassifier</th>\n",
              "      <td>0.26</td>\n",
              "      <td>0.28</td>\n",
              "      <td>None</td>\n",
              "      <td>0.22</td>\n",
              "      <td>0.12</td>\n",
              "    </tr>\n",
              "    <tr>\n",
              "      <th>ExtraTreesClassifier</th>\n",
              "      <td>0.26</td>\n",
              "      <td>0.28</td>\n",
              "      <td>None</td>\n",
              "      <td>0.22</td>\n",
              "      <td>0.38</td>\n",
              "    </tr>\n",
              "    <tr>\n",
              "      <th>DecisionTreeClassifier</th>\n",
              "      <td>0.26</td>\n",
              "      <td>0.28</td>\n",
              "      <td>None</td>\n",
              "      <td>0.22</td>\n",
              "      <td>0.02</td>\n",
              "    </tr>\n",
              "    <tr>\n",
              "      <th>CategoricalNB</th>\n",
              "      <td>0.29</td>\n",
              "      <td>0.27</td>\n",
              "      <td>None</td>\n",
              "      <td>0.19</td>\n",
              "      <td>0.02</td>\n",
              "    </tr>\n",
              "    <tr>\n",
              "      <th>Perceptron</th>\n",
              "      <td>0.27</td>\n",
              "      <td>0.26</td>\n",
              "      <td>None</td>\n",
              "      <td>0.18</td>\n",
              "      <td>0.03</td>\n",
              "    </tr>\n",
              "    <tr>\n",
              "      <th>SGDClassifier</th>\n",
              "      <td>0.27</td>\n",
              "      <td>0.25</td>\n",
              "      <td>None</td>\n",
              "      <td>0.12</td>\n",
              "      <td>0.04</td>\n",
              "    </tr>\n",
              "    <tr>\n",
              "      <th>NuSVC</th>\n",
              "      <td>0.22</td>\n",
              "      <td>0.25</td>\n",
              "      <td>None</td>\n",
              "      <td>0.08</td>\n",
              "      <td>0.10</td>\n",
              "    </tr>\n",
              "    <tr>\n",
              "      <th>DummyClassifier</th>\n",
              "      <td>0.25</td>\n",
              "      <td>0.25</td>\n",
              "      <td>None</td>\n",
              "      <td>0.24</td>\n",
              "      <td>0.04</td>\n",
              "    </tr>\n",
              "    <tr>\n",
              "      <th>CalibratedClassifierCV</th>\n",
              "      <td>0.24</td>\n",
              "      <td>0.24</td>\n",
              "      <td>None</td>\n",
              "      <td>0.16</td>\n",
              "      <td>0.23</td>\n",
              "    </tr>\n",
              "    <tr>\n",
              "      <th>RidgeClassifierCV</th>\n",
              "      <td>0.24</td>\n",
              "      <td>0.24</td>\n",
              "      <td>None</td>\n",
              "      <td>0.16</td>\n",
              "      <td>0.02</td>\n",
              "    </tr>\n",
              "    <tr>\n",
              "      <th>RidgeClassifier</th>\n",
              "      <td>0.24</td>\n",
              "      <td>0.24</td>\n",
              "      <td>None</td>\n",
              "      <td>0.16</td>\n",
              "      <td>0.02</td>\n",
              "    </tr>\n",
              "    <tr>\n",
              "      <th>KNeighborsClassifier</th>\n",
              "      <td>0.24</td>\n",
              "      <td>0.24</td>\n",
              "      <td>None</td>\n",
              "      <td>0.16</td>\n",
              "      <td>0.05</td>\n",
              "    </tr>\n",
              "    <tr>\n",
              "      <th>LogisticRegression</th>\n",
              "      <td>0.24</td>\n",
              "      <td>0.24</td>\n",
              "      <td>None</td>\n",
              "      <td>0.16</td>\n",
              "      <td>0.05</td>\n",
              "    </tr>\n",
              "    <tr>\n",
              "      <th>LinearDiscriminantAnalysis</th>\n",
              "      <td>0.24</td>\n",
              "      <td>0.24</td>\n",
              "      <td>None</td>\n",
              "      <td>0.16</td>\n",
              "      <td>0.03</td>\n",
              "    </tr>\n",
              "    <tr>\n",
              "      <th>LinearSVC</th>\n",
              "      <td>0.24</td>\n",
              "      <td>0.24</td>\n",
              "      <td>None</td>\n",
              "      <td>0.16</td>\n",
              "      <td>0.05</td>\n",
              "    </tr>\n",
              "    <tr>\n",
              "      <th>NearestCentroid</th>\n",
              "      <td>0.22</td>\n",
              "      <td>0.24</td>\n",
              "      <td>None</td>\n",
              "      <td>0.14</td>\n",
              "      <td>0.04</td>\n",
              "    </tr>\n",
              "    <tr>\n",
              "      <th>BernoulliNB</th>\n",
              "      <td>0.22</td>\n",
              "      <td>0.24</td>\n",
              "      <td>None</td>\n",
              "      <td>0.14</td>\n",
              "      <td>0.02</td>\n",
              "    </tr>\n",
              "    <tr>\n",
              "      <th>PassiveAggressiveClassifier</th>\n",
              "      <td>0.23</td>\n",
              "      <td>0.21</td>\n",
              "      <td>None</td>\n",
              "      <td>0.11</td>\n",
              "      <td>0.09</td>\n",
              "    </tr>\n",
              "  </tbody>\n",
              "</table>\n",
              "</div>\n",
              "      <button class=\"colab-df-convert\" onclick=\"convertToInteractive('df-2aa5dacc-8c43-4816-8678-ae9b37f88b1c')\"\n",
              "              title=\"Convert this dataframe to an interactive table.\"\n",
              "              style=\"display:none;\">\n",
              "        \n",
              "  <svg xmlns=\"http://www.w3.org/2000/svg\" height=\"24px\"viewBox=\"0 0 24 24\"\n",
              "       width=\"24px\">\n",
              "    <path d=\"M0 0h24v24H0V0z\" fill=\"none\"/>\n",
              "    <path d=\"M18.56 5.44l.94 2.06.94-2.06 2.06-.94-2.06-.94-.94-2.06-.94 2.06-2.06.94zm-11 1L8.5 8.5l.94-2.06 2.06-.94-2.06-.94L8.5 2.5l-.94 2.06-2.06.94zm10 10l.94 2.06.94-2.06 2.06-.94-2.06-.94-.94-2.06-.94 2.06-2.06.94z\"/><path d=\"M17.41 7.96l-1.37-1.37c-.4-.4-.92-.59-1.43-.59-.52 0-1.04.2-1.43.59L10.3 9.45l-7.72 7.72c-.78.78-.78 2.05 0 2.83L4 21.41c.39.39.9.59 1.41.59.51 0 1.02-.2 1.41-.59l7.78-7.78 2.81-2.81c.8-.78.8-2.07 0-2.86zM5.41 20L4 18.59l7.72-7.72 1.47 1.35L5.41 20z\"/>\n",
              "  </svg>\n",
              "      </button>\n",
              "      \n",
              "  <style>\n",
              "    .colab-df-container {\n",
              "      display:flex;\n",
              "      flex-wrap:wrap;\n",
              "      gap: 12px;\n",
              "    }\n",
              "\n",
              "    .colab-df-convert {\n",
              "      background-color: #E8F0FE;\n",
              "      border: none;\n",
              "      border-radius: 50%;\n",
              "      cursor: pointer;\n",
              "      display: none;\n",
              "      fill: #1967D2;\n",
              "      height: 32px;\n",
              "      padding: 0 0 0 0;\n",
              "      width: 32px;\n",
              "    }\n",
              "\n",
              "    .colab-df-convert:hover {\n",
              "      background-color: #E2EBFA;\n",
              "      box-shadow: 0px 1px 2px rgba(60, 64, 67, 0.3), 0px 1px 3px 1px rgba(60, 64, 67, 0.15);\n",
              "      fill: #174EA6;\n",
              "    }\n",
              "\n",
              "    [theme=dark] .colab-df-convert {\n",
              "      background-color: #3B4455;\n",
              "      fill: #D2E3FC;\n",
              "    }\n",
              "\n",
              "    [theme=dark] .colab-df-convert:hover {\n",
              "      background-color: #434B5C;\n",
              "      box-shadow: 0px 1px 3px 1px rgba(0, 0, 0, 0.15);\n",
              "      filter: drop-shadow(0px 1px 2px rgba(0, 0, 0, 0.3));\n",
              "      fill: #FFFFFF;\n",
              "    }\n",
              "  </style>\n",
              "\n",
              "      <script>\n",
              "        const buttonEl =\n",
              "          document.querySelector('#df-2aa5dacc-8c43-4816-8678-ae9b37f88b1c button.colab-df-convert');\n",
              "        buttonEl.style.display =\n",
              "          google.colab.kernel.accessAllowed ? 'block' : 'none';\n",
              "\n",
              "        async function convertToInteractive(key) {\n",
              "          const element = document.querySelector('#df-2aa5dacc-8c43-4816-8678-ae9b37f88b1c');\n",
              "          const dataTable =\n",
              "            await google.colab.kernel.invokeFunction('convertToInteractive',\n",
              "                                                     [key], {});\n",
              "          if (!dataTable) return;\n",
              "\n",
              "          const docLinkHtml = 'Like what you see? Visit the ' +\n",
              "            '<a target=\"_blank\" href=https://colab.research.google.com/notebooks/data_table.ipynb>data table notebook</a>'\n",
              "            + ' to learn more about interactive tables.';\n",
              "          element.innerHTML = '';\n",
              "          dataTable['output_type'] = 'display_data';\n",
              "          await google.colab.output.renderOutput(dataTable, element);\n",
              "          const docLink = document.createElement('div');\n",
              "          docLink.innerHTML = docLinkHtml;\n",
              "          element.appendChild(docLink);\n",
              "        }\n",
              "      </script>\n",
              "    </div>\n",
              "  </div>\n",
              "  "
            ]
          },
          "metadata": {},
          "execution_count": 24
        }
      ]
    },
    {
      "cell_type": "markdown",
      "source": [
        "While there is no performance gain in terms of Accuracy for using All Features, there is a gain for F1-Score.  \n",
        "\n",
        "We should investigate this further by looking at the confusion matrix. \n",
        "\n",
        "Note: The lazy prediction results varied wildly depending on different seeds. This might have be because we dont have much data to work with after we dropped the duplicates. \n",
        "\n",
        "Furthermore, the variables used for this model are likely not very useful at predicting **Buying**. We see this as the dummyclassifier is not so far off from the best models (suggesting the best models are not that much better than just predicting the majority class).\n",
        "\n",
        "We will choose adaboost as the model to do this as it seems to be the one of the best classifier in terms of accuracy (and we are familiar with it)"
      ],
      "metadata": {
        "id": "ylbb7qN-HIH5"
      }
    },
    {
      "cell_type": "markdown",
      "source": [
        "**All Features**"
      ],
      "metadata": {
        "id": "XaKjalItb-q9"
      }
    },
    {
      "cell_type": "code",
      "source": [
        "def print_scores(true, pred, title):\n",
        "    acc = accuracy_score(true, pred)\n",
        "    f1 = f1_score(true, pred, average = \"macro\")\n",
        "    print(f\"{title} Acc: {acc} F1: {f1}\")\n",
        "\n",
        "def get_clf_scores(clf, X_train, y_train, X_test, y_test):\n",
        "    train_pred = clf.predict(X_train)\n",
        "    test_pred = clf.predict(X_test)\n",
        "    print_scores(y_train, train_pred, \"Train\")\n",
        "    print_scores(y_test, test_pred, \"Test\")"
      ],
      "metadata": {
        "id": "MhgR_9bMnUfG"
      },
      "execution_count": 25,
      "outputs": []
    },
    {
      "cell_type": "code",
      "source": [
        "clf = AdaBoostClassifier()\n",
        "clf.fit(X_train, y_train)\n",
        "\n",
        "get_clf_scores(clf, X_train, y_train, X_test, y_test)"
      ],
      "metadata": {
        "colab": {
          "base_uri": "https://localhost:8080/"
        },
        "id": "Lk-IzWKKcDa4",
        "outputId": "25350c51-6b61-42e1-e491-be0b844a7cd5"
      },
      "execution_count": 26,
      "outputs": [
        {
          "output_type": "stream",
          "name": "stdout",
          "text": [
            "Train Acc: 0.3177441540577717 F1: 0.3120927122648831\n",
            "Test Acc: 0.3178294573643411 F1: 0.31233211874897815\n"
          ]
        }
      ]
    },
    {
      "cell_type": "code",
      "source": [
        "plot_confusion_matrix(clf, X_train, y_train)"
      ],
      "metadata": {
        "colab": {
          "base_uri": "https://localhost:8080/",
          "height": 300
        },
        "id": "IlI2m3stb-VP",
        "outputId": "f828fd39-2646-4034-ca20-592cf8a7e143"
      },
      "execution_count": 27,
      "outputs": [
        {
          "output_type": "execute_result",
          "data": {
            "text/plain": [
              "<sklearn.metrics._plot.confusion_matrix.ConfusionMatrixDisplay at 0x7f03768db850>"
            ]
          },
          "metadata": {},
          "execution_count": 27
        },
        {
          "output_type": "display_data",
          "data": {
            "text/plain": [
              "<Figure size 432x288 with 2 Axes>"
            ],
            "image/png": "[encoded data removed]"
          },
          "metadata": {
            "needs_background": "light"
          }
        }
      ]
    },
    {
      "cell_type": "markdown",
      "source": [
        "**Only Class**"
      ],
      "metadata": {
        "id": "5d_Za3gZoyqU"
      }
    },
    {
      "cell_type": "code",
      "source": [
        "clf = AdaBoostClassifier()\n",
        "clf.fit(X_train_c, y_train_c)\n",
        "\n",
        "get_clf_scores(clf, X_train_c, y_train_c, X_test_c, y_test_c)"
      ],
      "metadata": {
        "colab": {
          "base_uri": "https://localhost:8080/"
        },
        "id": "4U-6aqlKb825",
        "outputId": "76ba718d-319f-4034-ed4f-f933449b5704"
      },
      "execution_count": 28,
      "outputs": [
        {
          "output_type": "stream",
          "name": "stdout",
          "text": [
            "Train Acc: 0.3012379642365887 F1: 0.24475765500217467\n",
            "Test Acc: 0.26356589147286824 F1: 0.21604506604506607\n"
          ]
        }
      ]
    },
    {
      "cell_type": "code",
      "source": [
        "plot_confusion_matrix(clf, X_train_c, y_train_c)"
      ],
      "metadata": {
        "colab": {
          "base_uri": "https://localhost:8080/",
          "height": 296
        },
        "id": "yR1xxkz5cKvv",
        "outputId": "1214eaaa-26ac-446e-86c7-54ec5c8d52d4"
      },
      "execution_count": 29,
      "outputs": [
        {
          "output_type": "execute_result",
          "data": {
            "text/plain": [
              "<sklearn.metrics._plot.confusion_matrix.ConfusionMatrixDisplay at 0x7f03731d72d0>"
            ]
          },
          "metadata": {},
          "execution_count": 29
        },
        {
          "output_type": "display_data",
          "data": {
            "text/plain": [
              "<Figure size 432x288 with 2 Axes>"
            ],
            "image/png": "[encoded data removed]"
          },
          "metadata": {
            "needs_background": "light"
          }
        }
      ]
    },
    {
      "cell_type": "markdown",
      "source": [
        "We see that using **only class** resulting in the 2nd and 4th label not being predicted at all. Likely because class only has 4 unique values.\n",
        "\n",
        "The using **All Features** may result in all 4 types of labels, but whether or not this is valid is not clear. \n",
        "\n",
        "For this challenge in particular, I believe it might be wiser to use **All Features** as the prediction can be of any label (may be different from 1 and 3). \n",
        "\n",
        "One other point to note in this section is that the _Dummy Classifier_ has an accuracy of 0.25 which is very close to Adaboost's 0.32. Suggesting that random guessing might perform similar to the model (Which is a bad thing.)\n",
        "\n",
        "Regardless, we will following through with the procedure and can only hope for the best that the model will be able to make better predictions than random guessing."
      ],
      "metadata": {
        "id": "8u1bIJ39pMpf"
      }
    },
    {
      "cell_type": "markdown",
      "metadata": {
        "id": "CKV827JtxIO_"
      },
      "source": [
        "## 4.3 Hyper parameter tuning"
      ]
    },
    {
      "cell_type": "markdown",
      "source": [
        "In this section we will gridsearch the parameters for adaboost."
      ],
      "metadata": {
        "id": "KoXeBk2-_XD3"
      }
    },
    {
      "cell_type": "code",
      "source": [
        "\n",
        "\n",
        "skfold = StratifiedKFold(n_splits=5, shuffle = True, random_state = 0)\n",
        "\n",
        "param_grid = {\"base_estimator\":[DecisionTreeClassifier()],\n",
        "              \"base_estimator__max_depth\" : [2,3,4,5],\n",
        "              \"base_estimator__criterion\" : [\"gini\", \"entropy\"],\n",
        "              \"base_estimator__splitter\" :   [\"best\", \"random\"],\n",
        "              \"algorithm\" : [\"SAMME\",\"SAMME.R\"],\n",
        "              \"n_estimators\" :[5, 10, 20, 50],\n",
        "              \"learning_rate\":  [0.001, 0.01, 0.05, 0.1],\n",
        "              \"random_state\": [0]}\n",
        "\n",
        "optimal_clf = GridSearchCV(estimator=AdaBoostClassifier(),\n",
        "             param_grid=param_grid,\n",
        "             cv = skfold,\n",
        "             verbose = 1)\n",
        "\n",
        "%time optimal_clf.fit(X_train, y_train)\n",
        "optimal_clf.best_estimator_"
      ],
      "metadata": {
        "colab": {
          "base_uri": "https://localhost:8080/"
        },
        "id": "cULuAvyscfO1",
        "outputId": "aac9a81c-0e0a-4f87-a3ca-0fa6a6393fa6"
      },
      "execution_count": 30,
      "outputs": [
        {
          "output_type": "stream",
          "name": "stdout",
          "text": [
            "Fitting 5 folds for each of 512 candidates, totalling 2560 fits\n"
          ]
        },
        {
          "output_type": "stream",
          "name": "stderr",
          "text": [
            "[Parallel(n_jobs=1)]: Using backend SequentialBackend with 1 concurrent workers.\n"
          ]
        },
        {
          "output_type": "stream",
          "name": "stdout",
          "text": [
            "CPU times: user 1min 59s, sys: 656 ms, total: 1min 59s\n",
            "Wall time: 2min 4s\n"
          ]
        },
        {
          "output_type": "stream",
          "name": "stderr",
          "text": [
            "[Parallel(n_jobs=1)]: Done 2560 out of 2560 | elapsed:  2.1min finished\n"
          ]
        },
        {
          "output_type": "execute_result",
          "data": {
            "text/plain": [
              "AdaBoostClassifier(algorithm='SAMME',\n",
              "                   base_estimator=DecisionTreeClassifier(criterion='entropy',\n",
              "                                                         max_depth=2),\n",
              "                   learning_rate=0.05, n_estimators=20, random_state=0)"
            ]
          },
          "metadata": {},
          "execution_count": 30
        }
      ]
    },
    {
      "cell_type": "code",
      "source": [
        "get_clf_scores(optimal_clf, X_train, y_train, X_test, y_test)"
      ],
      "metadata": {
        "colab": {
          "base_uri": "https://localhost:8080/"
        },
        "id": "iGD9Iz4jlsKs",
        "outputId": "09d6c36b-6004-4900-dcc9-514e4f233a8d"
      },
      "execution_count": 31,
      "outputs": [
        {
          "output_type": "stream",
          "name": "stdout",
          "text": [
            "Train Acc: 0.31361760660247595 F1: 0.25008282128727477\n",
            "Test Acc: 0.3023255813953488 F1: 0.2397202964379632\n"
          ]
        }
      ]
    },
    {
      "cell_type": "code",
      "source": [
        "plot_confusion_matrix(optimal_clf, X_train, y_train)"
      ],
      "metadata": {
        "colab": {
          "base_uri": "https://localhost:8080/",
          "height": 300
        },
        "id": "SahPLWMtJBHQ",
        "outputId": "4f0b04b7-a0d6-46c7-b896-0e930f93a5d1"
      },
      "execution_count": 32,
      "outputs": [
        {
          "output_type": "execute_result",
          "data": {
            "text/plain": [
              "<sklearn.metrics._plot.confusion_matrix.ConfusionMatrixDisplay at 0x7f03730c8250>"
            ]
          },
          "metadata": {},
          "execution_count": 32
        },
        {
          "output_type": "display_data",
          "data": {
            "text/plain": [
              "<Figure size 432x288 with 2 Axes>"
            ],
            "image/png": "[encoded data removed]"
          },
          "metadata": {
            "needs_background": "light"
          }
        }
      ]
    },
    {
      "cell_type": "code",
      "source": [
        "plot_confusion_matrix(optimal_clf, X_test, y_test)"
      ],
      "metadata": {
        "colab": {
          "base_uri": "https://localhost:8080/",
          "height": 296
        },
        "id": "IzBHzbplmd7X",
        "outputId": "daa3a950-0b66-4daa-bf49-5853dc14b5c5"
      },
      "execution_count": 33,
      "outputs": [
        {
          "output_type": "execute_result",
          "data": {
            "text/plain": [
              "<sklearn.metrics._plot.confusion_matrix.ConfusionMatrixDisplay at 0x7f03afc80650>"
            ]
          },
          "metadata": {},
          "execution_count": 33
        },
        {
          "output_type": "display_data",
          "data": {
            "text/plain": [
              "<Figure size 432x288 with 2 Axes>"
            ],
            "image/png": "[encoded data removed]"
          },
          "metadata": {
            "needs_background": "light"
          }
        }
      ]
    },
    {
      "cell_type": "markdown",
      "source": [
        "**Fit on Full data**"
      ],
      "metadata": {
        "id": "jrpXUxIwq38O"
      }
    },
    {
      "cell_type": "code",
      "source": [
        "final_clf = optimal_clf.best_estimator_\n",
        "final_clf.fit(X,y)"
      ],
      "metadata": {
        "colab": {
          "base_uri": "https://localhost:8080/"
        },
        "id": "BjPTpa31q3nt",
        "outputId": "20cfebfa-5927-4524-d1ff-cf3225704435"
      },
      "execution_count": 34,
      "outputs": [
        {
          "output_type": "execute_result",
          "data": {
            "text/plain": [
              "AdaBoostClassifier(algorithm='SAMME',\n",
              "                   base_estimator=DecisionTreeClassifier(criterion='entropy',\n",
              "                                                         max_depth=2),\n",
              "                   learning_rate=0.05, n_estimators=20, random_state=0)"
            ]
          },
          "metadata": {},
          "execution_count": 34
        }
      ]
    },
    {
      "cell_type": "code",
      "source": [
        "final_clf.score(X,y)"
      ],
      "metadata": {
        "colab": {
          "base_uri": "https://localhost:8080/"
        },
        "id": "Bs7n7kN_0Xkw",
        "outputId": "b045f9a9-fa4e-4039-98ac-ec96c6173a77"
      },
      "execution_count": 35,
      "outputs": [
        {
          "output_type": "execute_result",
          "data": {
            "text/plain": [
              "0.3119158878504673"
            ]
          },
          "metadata": {},
          "execution_count": 35
        }
      ]
    },
    {
      "cell_type": "code",
      "source": [
        "plot_confusion_matrix(optimal_clf, X, y)"
      ],
      "metadata": {
        "colab": {
          "base_uri": "https://localhost:8080/",
          "height": 296
        },
        "id": "AMVSMHEFSg6B",
        "outputId": "14c8cc0e-3534-4b87-9af1-78fe8d0ceaaa"
      },
      "execution_count": 36,
      "outputs": [
        {
          "output_type": "execute_result",
          "data": {
            "text/plain": [
              "<sklearn.metrics._plot.confusion_matrix.ConfusionMatrixDisplay at 0x7f037700aad0>"
            ]
          },
          "metadata": {},
          "execution_count": 36
        },
        {
          "output_type": "display_data",
          "data": {
            "text/plain": [
              "<Figure size 432x288 with 2 Axes>"
            ],
            "image/png": "[encoded data removed]"
          },
          "metadata": {
            "needs_background": "light"
          }
        }
      ]
    },
    {
      "cell_type": "markdown",
      "source": [
        "# 5 Final Prediction"
      ],
      "metadata": {
        "id": "zdmRFTNyju7y"
      }
    },
    {
      "cell_type": "markdown",
      "source": [
        "Maintenance = High <br>\n",
        "Number of doors = 4<br>\n",
        "Lug Boot Size = Big<br>\n",
        "Safety = High<br>\n",
        "Class Value = Good<br>"
      ],
      "metadata": {
        "id": "01lqiOSdktIb"
      }
    },
    {
      "cell_type": "code",
      "source": [
        "ordinal_encoding = {'buying': {\"vhigh\" : 4, \"high\" : 3, \"med\" : 2, \"low\": 1},\n",
        "                  'maint': {\"vhigh\" : 4, \"high\" : 3, \"med\" : 2, \"low\": 1},\n",
        "                  'doors': {\"2\" : 1, \"3\" : 2, \"4\" : 3, \"5more\": 4},\n",
        "                  'persons': {\"2\" : 1, \"4\" : 2, \"more\" : 3},\n",
        "                  'lug_boot': {\"small\" : 1, \"med\" : 2, \"big\": 3},\n",
        "                  'safety': { \"high\" : 3, \"med\" : 2, \"low\": 1},\n",
        "                  'class': {\"unacc\" : 1, \"acc\": 2, \"good\": 3, \"vgood\": 4}}\n",
        "\n",
        "\n",
        "X_new = {\"maint\": 3,\n",
        "         \"doors\" : 3,\n",
        "         \"lug_boot\": 3,\n",
        "         \"safety\": 3,\n",
        "         \"class\": 3}\n",
        "X_new = pd.Series(X_new)"
      ],
      "metadata": {
        "id": "vIh88qsTrHA5"
      },
      "execution_count": 37,
      "outputs": []
    },
    {
      "cell_type": "code",
      "source": [
        "optimal_clf.predict([X_new])"
      ],
      "metadata": {
        "colab": {
          "base_uri": "https://localhost:8080/"
        },
        "id": "_UoixjHhjt7t",
        "outputId": "07f85244-7aea-4e5e-fc84-e8798b755880"
      },
      "execution_count": 38,
      "outputs": [
        {
          "output_type": "execute_result",
          "data": {
            "text/plain": [
              "array([1])"
            ]
          },
          "metadata": {},
          "execution_count": 38
        }
      ]
    },
    {
      "cell_type": "markdown",
      "source": [
        "The Prediction by our model is 1 --> low buying price."
      ],
      "metadata": {
        "id": "MV0xZ-fJ0_yC"
      }
    }
  ],
  "metadata": {
    "kernelspec": {
      "display_name": "Python 3.10.5 ('govtech')",
      "language": "python",
      "name": "python3"
    },
    "language_info": {
      "codemirror_mode": {
        "name": "ipython",
        "version": 3
      },
      "file_extension": ".py",
      "mimetype": "text/x-python",
      "name": "python",
      "nbconvert_exporter": "python",
      "pygments_lexer": "ipython3",
      "version": "3.10.5"
    },
    "orig_nbformat": 4,
    "vscode": {
      "interpreter": {
        "hash": "e520d92cfd6971c12b85d4b2839bf09b82d98b7ff8ddcff838ee2db3a8490568"
      }
    },
    "colab": {
      "name": "Cars Model.ipynb",
      "provenance": [],
      "collapsed_sections": [],
      "toc_visible": true
    }
  },
  "nbformat": 4,
  "nbformat_minor": 0
}